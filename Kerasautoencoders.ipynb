{
  "nbformat": 4,
  "nbformat_minor": 0,
  "metadata": {
    "colab": {
      "name": "Kerasautoencoders.ipynb",
      "provenance": [],
      "collapsed_sections": [],
      "authorship_tag": "ABX9TyOFyfAbKlW3bp/x2Jgv09D1",
      "include_colab_link": true
    },
    "kernelspec": {
      "name": "python3",
      "display_name": "Python 3"
    }
  },
  "cells": [
    {
      "cell_type": "markdown",
      "metadata": {
        "id": "view-in-github",
        "colab_type": "text"
      },
      "source": [
        "<a href=\"https://colab.research.google.com/github/nouranali/SureStart_VAILTraining/blob/master/Kerasautoencoders.ipynb\" target=\"_parent\"><img src=\"https://colab.research.google.com/assets/colab-badge.svg\" alt=\"Open In Colab\"/></a>"
      ]
    },
    {
      "cell_type": "markdown",
      "metadata": {
        "id": "iNnOszXEJNQs"
      },
      "source": [
        "## In this notebook I'll be learning about autoencoders and how to use them with upsampling"
      ]
    },
    {
      "cell_type": "markdown",
      "metadata": {
        "id": "CIJmIvMIJmjw"
      },
      "source": [
        "### I'm learning from this [tutorial](https://blog.keras.io/building-autoencoders-in-keras.html) which has both demonstration and code example "
      ]
    },
    {
      "cell_type": "code",
      "metadata": {
        "id": "-3Fd1UKgJK9Q"
      },
      "source": [
        "# simple example\n",
        "from keras.datasets import mnist\n",
        "import numpy as np\n",
        "\n",
        "# This is the size of our encoded representations\n",
        "encoding_dim = 32  # 32 floats -> compression of factor 24.5, assuming the input is 784 floats\n",
        "\n",
        "# This is our input image\n",
        "input_img = keras.Input(shape=(784,))\n",
        "# \"encoded\" is the encoded representation of the input\n",
        "encoded = layers.Dense(encoding_dim, activation='relu')(input_img)\n",
        "# \"decoded\" is the lossy reconstruction of the input\n",
        "decoded = layers.Dense(784, activation='sigmoid')(encoded)\n",
        "# This model maps an input to its reconstruction\n",
        "autoencoder = keras.Model(input_img, decoded)"
      ],
      "execution_count": 1,
      "outputs": []
    },
    {
      "cell_type": "code",
      "metadata": {
        "id": "s44QZjUWLJCt"
      },
      "source": [
        "encoder = keras.Model(input_img, encoded)"
      ],
      "execution_count": 2,
      "outputs": []
    },
    {
      "cell_type": "code",
      "metadata": {
        "id": "ywC_-mwALOQs"
      },
      "source": [
        "# This is our encoded (32-dimensional) input\n",
        "encoded_input = keras.Input(shape=(encoding_dim,))\n",
        "# Retrieve the last layer of the autoencoder model\n",
        "decoder_layer = autoencoder.layers[-1]\n",
        "# Create the decoder model\n",
        "decoder = keras.Model(encoded_input, decoder_layer(encoded_input))"
      ],
      "execution_count": 3,
      "outputs": []
    },
    {
      "cell_type": "code",
      "metadata": {
        "id": "V--RyUEiLQxj"
      },
      "source": [
        "autoencoder.compile(optimizer='adam', loss='binary_crossentropy')"
      ],
      "execution_count": 4,
      "outputs": []
    },
    {
      "cell_type": "markdown",
      "metadata": {
        "id": "4lwDARmyLWWp"
      },
      "source": [
        "MNIST with autoencoders, we'll discard the labels as we'll decode and encode the images"
      ]
    },
    {
      "cell_type": "code",
      "metadata": {
        "colab": {
          "base_uri": "https://localhost:8080/"
        },
        "id": "Sh2Y2KrNLVrD",
        "outputId": "75577508-c05d-4f0f-efc5-380713eaa936"
      },
      "source": [
        "from keras.datasets import mnist\n",
        "import numpy as np\n",
        "(x_train, _), (x_test, _) = mnist.load_data()"
      ],
      "execution_count": 5,
      "outputs": [
        {
          "output_type": "stream",
          "text": [
            "Downloading data from https://storage.googleapis.com/tensorflow/tf-keras-datasets/mnist.npz\n",
            "11493376/11490434 [==============================] - 0s 0us/step\n"
          ],
          "name": "stdout"
        }
      ]
    },
    {
      "cell_type": "code",
      "metadata": {
        "colab": {
          "base_uri": "https://localhost:8080/"
        },
        "id": "SGJcrQqrLiCc",
        "outputId": "37bd67b0-5ce1-40b2-af06-b4d69a2ad4d2"
      },
      "source": [
        "# normalization of data and reshaping\n",
        "x_train = x_train.astype('float32') / 255.\n",
        "x_test = x_test.astype('float32') / 255.\n",
        "x_train = x_train.reshape((len(x_train), np.prod(x_train.shape[1:])))\n",
        "x_test = x_test.reshape((len(x_test), np.prod(x_test.shape[1:])))\n",
        "print(x_train.shape)\n",
        "print(x_test.shape)"
      ],
      "execution_count": 7,
      "outputs": [
        {
          "output_type": "stream",
          "text": [
            "(60000, 784)\n",
            "(10000, 784)\n"
          ],
          "name": "stdout"
        }
      ]
    },
    {
      "cell_type": "code",
      "metadata": {
        "colab": {
          "base_uri": "https://localhost:8080/"
        },
        "id": "FuEea9XXLmdT",
        "outputId": "7ca00f5e-47b8-4c0b-df40-7923d91d4923"
      },
      "source": [
        "# train the autoencoder\n",
        "autoencoder.fit(x_train, x_train,\n",
        "                epochs=50,\n",
        "                batch_size=256,\n",
        "                shuffle=True,\n",
        "                validation_data=(x_test, x_test))"
      ],
      "execution_count": 9,
      "outputs": [
        {
          "output_type": "stream",
          "text": [
            "Epoch 1/50\n",
            "235/235 [==============================] - 3s 10ms/step - loss: 0.3830 - val_loss: 0.1875\n",
            "Epoch 2/50\n",
            "235/235 [==============================] - 2s 8ms/step - loss: 0.1790 - val_loss: 0.1532\n",
            "Epoch 3/50\n",
            "235/235 [==============================] - 2s 9ms/step - loss: 0.1491 - val_loss: 0.1336\n",
            "Epoch 4/50\n",
            "235/235 [==============================] - 2s 8ms/step - loss: 0.1317 - val_loss: 0.1212\n",
            "Epoch 5/50\n",
            "235/235 [==============================] - 2s 9ms/step - loss: 0.1205 - val_loss: 0.1130\n",
            "Epoch 6/50\n",
            "235/235 [==============================] - 2s 9ms/step - loss: 0.1126 - val_loss: 0.1072\n",
            "Epoch 7/50\n",
            "235/235 [==============================] - 2s 9ms/step - loss: 0.1071 - val_loss: 0.1030\n",
            "Epoch 8/50\n",
            "235/235 [==============================] - 2s 9ms/step - loss: 0.1033 - val_loss: 0.0998\n",
            "Epoch 9/50\n",
            "235/235 [==============================] - 2s 8ms/step - loss: 0.1003 - val_loss: 0.0974\n",
            "Epoch 10/50\n",
            "235/235 [==============================] - 2s 9ms/step - loss: 0.0979 - val_loss: 0.0958\n",
            "Epoch 11/50\n",
            "235/235 [==============================] - 2s 9ms/step - loss: 0.0967 - val_loss: 0.0946\n",
            "Epoch 12/50\n",
            "235/235 [==============================] - 2s 8ms/step - loss: 0.0957 - val_loss: 0.0939\n",
            "Epoch 13/50\n",
            "235/235 [==============================] - 2s 9ms/step - loss: 0.0948 - val_loss: 0.0935\n",
            "Epoch 14/50\n",
            "235/235 [==============================] - 2s 8ms/step - loss: 0.0949 - val_loss: 0.0932\n",
            "Epoch 15/50\n",
            "235/235 [==============================] - 2s 8ms/step - loss: 0.0944 - val_loss: 0.0930\n",
            "Epoch 16/50\n",
            "235/235 [==============================] - 2s 8ms/step - loss: 0.0941 - val_loss: 0.0928\n",
            "Epoch 17/50\n",
            "235/235 [==============================] - 2s 9ms/step - loss: 0.0939 - val_loss: 0.0927\n",
            "Epoch 18/50\n",
            "235/235 [==============================] - 2s 8ms/step - loss: 0.0937 - val_loss: 0.0925\n",
            "Epoch 19/50\n",
            "235/235 [==============================] - 2s 8ms/step - loss: 0.0937 - val_loss: 0.0924\n",
            "Epoch 20/50\n",
            "235/235 [==============================] - 2s 9ms/step - loss: 0.0936 - val_loss: 0.0923\n",
            "Epoch 21/50\n",
            "235/235 [==============================] - 2s 8ms/step - loss: 0.0934 - val_loss: 0.0922\n",
            "Epoch 22/50\n",
            "235/235 [==============================] - 2s 8ms/step - loss: 0.0935 - val_loss: 0.0922\n",
            "Epoch 23/50\n",
            "235/235 [==============================] - 2s 8ms/step - loss: 0.0933 - val_loss: 0.0921\n",
            "Epoch 24/50\n",
            "235/235 [==============================] - 2s 9ms/step - loss: 0.0933 - val_loss: 0.0920\n",
            "Epoch 25/50\n",
            "235/235 [==============================] - 2s 8ms/step - loss: 0.0931 - val_loss: 0.0920\n",
            "Epoch 26/50\n",
            "235/235 [==============================] - 2s 8ms/step - loss: 0.0931 - val_loss: 0.0920\n",
            "Epoch 27/50\n",
            "235/235 [==============================] - 2s 8ms/step - loss: 0.0932 - val_loss: 0.0920\n",
            "Epoch 28/50\n",
            "235/235 [==============================] - 2s 8ms/step - loss: 0.0929 - val_loss: 0.0919\n",
            "Epoch 29/50\n",
            "235/235 [==============================] - 2s 8ms/step - loss: 0.0930 - val_loss: 0.0919\n",
            "Epoch 30/50\n",
            "235/235 [==============================] - 2s 8ms/step - loss: 0.0931 - val_loss: 0.0918\n",
            "Epoch 31/50\n",
            "235/235 [==============================] - 2s 8ms/step - loss: 0.0932 - val_loss: 0.0918\n",
            "Epoch 32/50\n",
            "235/235 [==============================] - 2s 8ms/step - loss: 0.0928 - val_loss: 0.0918\n",
            "Epoch 33/50\n",
            "235/235 [==============================] - 2s 8ms/step - loss: 0.0929 - val_loss: 0.0918\n",
            "Epoch 34/50\n",
            "235/235 [==============================] - 2s 9ms/step - loss: 0.0930 - val_loss: 0.0918\n",
            "Epoch 35/50\n",
            "235/235 [==============================] - 2s 9ms/step - loss: 0.0931 - val_loss: 0.0917\n",
            "Epoch 36/50\n",
            "235/235 [==============================] - 2s 9ms/step - loss: 0.0928 - val_loss: 0.0917\n",
            "Epoch 37/50\n",
            "235/235 [==============================] - 2s 8ms/step - loss: 0.0929 - val_loss: 0.0917\n",
            "Epoch 38/50\n",
            "235/235 [==============================] - 2s 8ms/step - loss: 0.0927 - val_loss: 0.0918\n",
            "Epoch 39/50\n",
            "235/235 [==============================] - 2s 8ms/step - loss: 0.0927 - val_loss: 0.0916\n",
            "Epoch 40/50\n",
            "235/235 [==============================] - 2s 9ms/step - loss: 0.0928 - val_loss: 0.0916\n",
            "Epoch 41/50\n",
            "235/235 [==============================] - 2s 9ms/step - loss: 0.0928 - val_loss: 0.0917\n",
            "Epoch 42/50\n",
            "235/235 [==============================] - 2s 9ms/step - loss: 0.0927 - val_loss: 0.0916\n",
            "Epoch 43/50\n",
            "235/235 [==============================] - 2s 9ms/step - loss: 0.0928 - val_loss: 0.0915\n",
            "Epoch 44/50\n",
            "235/235 [==============================] - 2s 9ms/step - loss: 0.0929 - val_loss: 0.0916\n",
            "Epoch 45/50\n",
            "235/235 [==============================] - 2s 8ms/step - loss: 0.0926 - val_loss: 0.0916\n",
            "Epoch 46/50\n",
            "235/235 [==============================] - 2s 9ms/step - loss: 0.0925 - val_loss: 0.0916\n",
            "Epoch 47/50\n",
            "235/235 [==============================] - 2s 9ms/step - loss: 0.0928 - val_loss: 0.0915\n",
            "Epoch 48/50\n",
            "235/235 [==============================] - 2s 8ms/step - loss: 0.0924 - val_loss: 0.0916\n",
            "Epoch 49/50\n",
            "235/235 [==============================] - 2s 8ms/step - loss: 0.0926 - val_loss: 0.0915\n",
            "Epoch 50/50\n",
            "235/235 [==============================] - 2s 8ms/step - loss: 0.0928 - val_loss: 0.0915\n"
          ],
          "name": "stdout"
        },
        {
          "output_type": "execute_result",
          "data": {
            "text/plain": [
              "<tensorflow.python.keras.callbacks.History at 0x7f7a86eff210>"
            ]
          },
          "metadata": {
            "tags": []
          },
          "execution_count": 9
        }
      ]
    },
    {
      "cell_type": "code",
      "metadata": {
        "id": "OeOTdafXLreO"
      },
      "source": [
        "# encode/decode images\n",
        "encoded_imgs = encoder.predict(x_test)\n",
        "decoded_imgs = decoder.predict(encoded_imgs)"
      ],
      "execution_count": 10,
      "outputs": []
    },
    {
      "cell_type": "code",
      "metadata": {
        "colab": {
          "base_uri": "https://localhost:8080/",
          "height": 248
        },
        "id": "IacE_uFiMpVO",
        "outputId": "911e3ce2-c7cd-4c39-a390-b72b7258f06d"
      },
      "source": [
        "import matplotlib.pyplot as plt\n",
        "\n",
        "n = 10  # How many digits we will display\n",
        "plt.figure(figsize=(20, 4))\n",
        "for i in range(n):\n",
        "    # Display original\n",
        "    ax = plt.subplot(2, n, i + 1)\n",
        "    plt.imshow(x_test[i].reshape(28, 28))\n",
        "    plt.gray()\n",
        "    ax.get_xaxis().set_visible(False)\n",
        "    ax.get_yaxis().set_visible(False)\n",
        "\n",
        "    # Display reconstruction\n",
        "    ax = plt.subplot(2, n, i + 1 + n)\n",
        "    plt.imshow(decoded_imgs[i].reshape(28, 28))\n",
        "    plt.gray()\n",
        "    ax.get_xaxis().set_visible(False)\n",
        "    ax.get_yaxis().set_visible(False)\n",
        "plt.show()"
      ],
      "execution_count": 11,
      "outputs": [
        {
          "output_type": "display_data",
          "data": {
            "image/png": "[encoded data removed]",
            "text/plain": [
              "<Figure size 1440x288 with 20 Axes>"
            ]
          },
          "metadata": {
            "tags": [],
            "needs_background": "light"
          }
        }
      ]
    },
    {
      "cell_type": "markdown",
      "metadata": {
        "id": "OobwOiOSMyOn"
      },
      "source": [
        "Wow, the neural network learnt to deconsruct then construct the images"
      ]
    },
    {
      "cell_type": "markdown",
      "metadata": {
        "id": "37rG3hzWM9yJ"
      },
      "source": [
        "we'll add a contstraint on hiddedn layer size"
      ]
    },
    {
      "cell_type": "code",
      "metadata": {
        "id": "t9DyTBpPMu08"
      },
      "source": [
        "from keras import regularizers\n",
        "\n",
        "encoding_dim = 32\n",
        "\n",
        "input_img = keras.Input(shape=(784,))\n",
        "# Add a Dense layer with a L1 activity regularizer\n",
        "encoded = layers.Dense(encoding_dim, activation='relu',\n",
        "                activity_regularizer=regularizers.l1(10e-5))(input_img)\n",
        "decoded = layers.Dense(784, activation='sigmoid')(encoded)\n",
        "\n",
        "autoencoder = keras.Model(input_img, decoded)"
      ],
      "execution_count": 12,
      "outputs": []
    },
    {
      "cell_type": "markdown",
      "metadata": {
        "id": "DQ5XyYTuNlTt"
      },
      "source": [
        "## Deep auto encoder with more layers"
      ]
    },
    {
      "cell_type": "code",
      "metadata": {
        "id": "b9AjN18mNZfy"
      },
      "source": [
        "input_img = keras.Input(shape=(784,))\n",
        "encoded = layers.Dense(128, activation='relu')(input_img)\n",
        "encoded = layers.Dense(64, activation='relu')(encoded)\n",
        "encoded = layers.Dense(32, activation='relu')(encoded)\n",
        "\n",
        "decoded = layers.Dense(64, activation='relu')(encoded)\n",
        "decoded = layers.Dense(128, activation='relu')(decoded)\n",
        "decoded = layers.Dense(784, activation='sigmoid')(decoded)"
      ],
      "execution_count": 14,
      "outputs": []
    },
    {
      "cell_type": "code",
      "metadata": {
        "colab": {
          "base_uri": "https://localhost:8080/"
        },
        "id": "DjhVG-b8NtRs",
        "outputId": "17999eee-a28b-49d7-9a34-24a1269ecb1e"
      },
      "source": [
        "autoencoder = keras.Model(input_img, decoded)\n",
        "autoencoder.compile(optimizer='adam', loss='binary_crossentropy')\n",
        "\n",
        "autoencoder.fit(x_train, x_train,\n",
        "                epochs=100,\n",
        "                batch_size=256,\n",
        "                shuffle=True,\n",
        "                validation_data=(x_test, x_test))"
      ],
      "execution_count": 15,
      "outputs": [
        {
          "output_type": "stream",
          "text": [
            "Epoch 1/100\n",
            "235/235 [==============================] - 3s 12ms/step - loss: 0.3354 - val_loss: 0.1639\n",
            "Epoch 2/100\n",
            "235/235 [==============================] - 3s 13ms/step - loss: 0.1584 - val_loss: 0.1422\n",
            "Epoch 3/100\n",
            "235/235 [==============================] - 3s 12ms/step - loss: 0.1396 - val_loss: 0.1288\n",
            "Epoch 4/100\n",
            "235/235 [==============================] - 3s 12ms/step - loss: 0.1282 - val_loss: 0.1206\n",
            "Epoch 5/100\n",
            "235/235 [==============================] - 3s 12ms/step - loss: 0.1205 - val_loss: 0.1153\n",
            "Epoch 6/100\n",
            "235/235 [==============================] - 3s 13ms/step - loss: 0.1152 - val_loss: 0.1105\n",
            "Epoch 7/100\n",
            "235/235 [==============================] - 3s 13ms/step - loss: 0.1110 - val_loss: 0.1071\n",
            "Epoch 8/100\n",
            "235/235 [==============================] - 3s 13ms/step - loss: 0.1075 - val_loss: 0.1047\n",
            "Epoch 9/100\n",
            "235/235 [==============================] - 3s 13ms/step - loss: 0.1055 - val_loss: 0.1032\n",
            "Epoch 10/100\n",
            "235/235 [==============================] - 3s 13ms/step - loss: 0.1039 - val_loss: 0.1013\n",
            "Epoch 11/100\n",
            "235/235 [==============================] - 3s 13ms/step - loss: 0.1024 - val_loss: 0.1002\n",
            "Epoch 12/100\n",
            "235/235 [==============================] - 3s 13ms/step - loss: 0.1010 - val_loss: 0.0988\n",
            "Epoch 13/100\n",
            "235/235 [==============================] - 3s 12ms/step - loss: 0.0998 - val_loss: 0.0980\n",
            "Epoch 14/100\n",
            "235/235 [==============================] - 3s 12ms/step - loss: 0.0986 - val_loss: 0.0969\n",
            "Epoch 15/100\n",
            "235/235 [==============================] - 3s 13ms/step - loss: 0.0976 - val_loss: 0.0959\n",
            "Epoch 16/100\n",
            "235/235 [==============================] - 3s 13ms/step - loss: 0.0965 - val_loss: 0.0950\n",
            "Epoch 17/100\n",
            "235/235 [==============================] - 3s 13ms/step - loss: 0.0956 - val_loss: 0.0945\n",
            "Epoch 18/100\n",
            "235/235 [==============================] - 3s 13ms/step - loss: 0.0951 - val_loss: 0.0936\n",
            "Epoch 19/100\n",
            "235/235 [==============================] - 3s 13ms/step - loss: 0.0942 - val_loss: 0.0931\n",
            "Epoch 20/100\n",
            "235/235 [==============================] - 3s 13ms/step - loss: 0.0938 - val_loss: 0.0923\n",
            "Epoch 21/100\n",
            "235/235 [==============================] - 3s 13ms/step - loss: 0.0931 - val_loss: 0.0919\n",
            "Epoch 22/100\n",
            "235/235 [==============================] - 3s 13ms/step - loss: 0.0925 - val_loss: 0.0913\n",
            "Epoch 23/100\n",
            "235/235 [==============================] - 3s 13ms/step - loss: 0.0919 - val_loss: 0.0909\n",
            "Epoch 24/100\n",
            "235/235 [==============================] - 3s 13ms/step - loss: 0.0914 - val_loss: 0.0903\n",
            "Epoch 25/100\n",
            "235/235 [==============================] - 3s 13ms/step - loss: 0.0906 - val_loss: 0.0897\n",
            "Epoch 26/100\n",
            "235/235 [==============================] - 3s 13ms/step - loss: 0.0902 - val_loss: 0.0894\n",
            "Epoch 27/100\n",
            "235/235 [==============================] - 3s 13ms/step - loss: 0.0897 - val_loss: 0.0889\n",
            "Epoch 28/100\n",
            "235/235 [==============================] - 3s 13ms/step - loss: 0.0896 - val_loss: 0.0885\n",
            "Epoch 29/100\n",
            "235/235 [==============================] - 3s 12ms/step - loss: 0.0892 - val_loss: 0.0883\n",
            "Epoch 30/100\n",
            "235/235 [==============================] - 3s 13ms/step - loss: 0.0886 - val_loss: 0.0880\n",
            "Epoch 31/100\n",
            "235/235 [==============================] - 3s 13ms/step - loss: 0.0884 - val_loss: 0.0877\n",
            "Epoch 32/100\n",
            "235/235 [==============================] - 3s 13ms/step - loss: 0.0884 - val_loss: 0.0874\n",
            "Epoch 33/100\n",
            "235/235 [==============================] - 3s 13ms/step - loss: 0.0879 - val_loss: 0.0872\n",
            "Epoch 34/100\n",
            "235/235 [==============================] - 3s 13ms/step - loss: 0.0876 - val_loss: 0.0868\n",
            "Epoch 35/100\n",
            "235/235 [==============================] - 3s 13ms/step - loss: 0.0876 - val_loss: 0.0867\n",
            "Epoch 36/100\n",
            "235/235 [==============================] - 3s 12ms/step - loss: 0.0870 - val_loss: 0.0865\n",
            "Epoch 37/100\n",
            "235/235 [==============================] - 3s 12ms/step - loss: 0.0869 - val_loss: 0.0862\n",
            "Epoch 38/100\n",
            "235/235 [==============================] - 3s 12ms/step - loss: 0.0868 - val_loss: 0.0859\n",
            "Epoch 39/100\n",
            "235/235 [==============================] - 3s 12ms/step - loss: 0.0864 - val_loss: 0.0860\n",
            "Epoch 40/100\n",
            "235/235 [==============================] - 3s 12ms/step - loss: 0.0864 - val_loss: 0.0854\n",
            "Epoch 41/100\n",
            "235/235 [==============================] - 3s 12ms/step - loss: 0.0858 - val_loss: 0.0849\n",
            "Epoch 42/100\n",
            "235/235 [==============================] - 3s 12ms/step - loss: 0.0855 - val_loss: 0.0857\n",
            "Epoch 43/100\n",
            "235/235 [==============================] - 3s 13ms/step - loss: 0.0855 - val_loss: 0.0848\n",
            "Epoch 44/100\n",
            "235/235 [==============================] - 3s 13ms/step - loss: 0.0851 - val_loss: 0.0845\n",
            "Epoch 45/100\n",
            "235/235 [==============================] - 3s 13ms/step - loss: 0.0851 - val_loss: 0.0848\n",
            "Epoch 46/100\n",
            "235/235 [==============================] - 3s 13ms/step - loss: 0.0849 - val_loss: 0.0843\n",
            "Epoch 47/100\n",
            "235/235 [==============================] - 3s 13ms/step - loss: 0.0848 - val_loss: 0.0842\n",
            "Epoch 48/100\n",
            "235/235 [==============================] - 3s 13ms/step - loss: 0.0845 - val_loss: 0.0840\n",
            "Epoch 49/100\n",
            "235/235 [==============================] - 3s 12ms/step - loss: 0.0845 - val_loss: 0.0838\n",
            "Epoch 50/100\n",
            "235/235 [==============================] - 3s 12ms/step - loss: 0.0843 - val_loss: 0.0839\n",
            "Epoch 51/100\n",
            "235/235 [==============================] - 3s 12ms/step - loss: 0.0842 - val_loss: 0.0837\n",
            "Epoch 52/100\n",
            "235/235 [==============================] - 3s 12ms/step - loss: 0.0842 - val_loss: 0.0835\n",
            "Epoch 53/100\n",
            "235/235 [==============================] - 3s 12ms/step - loss: 0.0840 - val_loss: 0.0835\n",
            "Epoch 54/100\n",
            "235/235 [==============================] - 3s 12ms/step - loss: 0.0841 - val_loss: 0.0833\n",
            "Epoch 55/100\n",
            "235/235 [==============================] - 3s 12ms/step - loss: 0.0837 - val_loss: 0.0832\n",
            "Epoch 56/100\n",
            "235/235 [==============================] - 3s 13ms/step - loss: 0.0837 - val_loss: 0.0829\n",
            "Epoch 57/100\n",
            "235/235 [==============================] - 3s 13ms/step - loss: 0.0834 - val_loss: 0.0832\n",
            "Epoch 58/100\n",
            "235/235 [==============================] - 3s 13ms/step - loss: 0.0834 - val_loss: 0.0830\n",
            "Epoch 59/100\n",
            "235/235 [==============================] - 3s 13ms/step - loss: 0.0834 - val_loss: 0.0830\n",
            "Epoch 60/100\n",
            "235/235 [==============================] - 3s 12ms/step - loss: 0.0830 - val_loss: 0.0829\n",
            "Epoch 61/100\n",
            "235/235 [==============================] - 3s 13ms/step - loss: 0.0830 - val_loss: 0.0826\n",
            "Epoch 62/100\n",
            "235/235 [==============================] - 3s 13ms/step - loss: 0.0829 - val_loss: 0.0825\n",
            "Epoch 63/100\n",
            "235/235 [==============================] - 3s 13ms/step - loss: 0.0830 - val_loss: 0.0826\n",
            "Epoch 64/100\n",
            "235/235 [==============================] - 3s 12ms/step - loss: 0.0827 - val_loss: 0.0824\n",
            "Epoch 65/100\n",
            "235/235 [==============================] - 3s 13ms/step - loss: 0.0827 - val_loss: 0.0823\n",
            "Epoch 66/100\n",
            "235/235 [==============================] - 3s 12ms/step - loss: 0.0827 - val_loss: 0.0823\n",
            "Epoch 67/100\n",
            "235/235 [==============================] - 3s 13ms/step - loss: 0.0826 - val_loss: 0.0820\n",
            "Epoch 68/100\n",
            "235/235 [==============================] - 3s 13ms/step - loss: 0.0824 - val_loss: 0.0822\n",
            "Epoch 69/100\n",
            "235/235 [==============================] - 3s 12ms/step - loss: 0.0823 - val_loss: 0.0822\n",
            "Epoch 70/100\n",
            "235/235 [==============================] - 3s 13ms/step - loss: 0.0824 - val_loss: 0.0821\n",
            "Epoch 71/100\n",
            "235/235 [==============================] - 3s 13ms/step - loss: 0.0823 - val_loss: 0.0822\n",
            "Epoch 72/100\n",
            "235/235 [==============================] - 3s 13ms/step - loss: 0.0822 - val_loss: 0.0822\n",
            "Epoch 73/100\n",
            "235/235 [==============================] - 3s 12ms/step - loss: 0.0825 - val_loss: 0.0820\n",
            "Epoch 74/100\n",
            "235/235 [==============================] - 3s 13ms/step - loss: 0.0822 - val_loss: 0.0819\n",
            "Epoch 75/100\n",
            "235/235 [==============================] - 3s 12ms/step - loss: 0.0820 - val_loss: 0.0819\n",
            "Epoch 76/100\n",
            "235/235 [==============================] - 3s 12ms/step - loss: 0.0822 - val_loss: 0.0816\n",
            "Epoch 77/100\n",
            "235/235 [==============================] - 3s 12ms/step - loss: 0.0820 - val_loss: 0.0818\n",
            "Epoch 78/100\n",
            "235/235 [==============================] - 3s 13ms/step - loss: 0.0818 - val_loss: 0.0818\n",
            "Epoch 79/100\n",
            "235/235 [==============================] - 3s 12ms/step - loss: 0.0819 - val_loss: 0.0819\n",
            "Epoch 80/100\n",
            "235/235 [==============================] - 3s 13ms/step - loss: 0.0821 - val_loss: 0.0816\n",
            "Epoch 81/100\n",
            "235/235 [==============================] - 3s 12ms/step - loss: 0.0819 - val_loss: 0.0815\n",
            "Epoch 82/100\n",
            "235/235 [==============================] - 3s 12ms/step - loss: 0.0817 - val_loss: 0.0817\n",
            "Epoch 83/100\n",
            "235/235 [==============================] - 3s 13ms/step - loss: 0.0816 - val_loss: 0.0816\n",
            "Epoch 84/100\n",
            "235/235 [==============================] - 3s 13ms/step - loss: 0.0815 - val_loss: 0.0815\n",
            "Epoch 85/100\n",
            "235/235 [==============================] - 3s 13ms/step - loss: 0.0816 - val_loss: 0.0817\n",
            "Epoch 86/100\n",
            "235/235 [==============================] - 3s 13ms/step - loss: 0.0818 - val_loss: 0.0816\n",
            "Epoch 87/100\n",
            "235/235 [==============================] - 3s 13ms/step - loss: 0.0816 - val_loss: 0.0816\n",
            "Epoch 88/100\n",
            "235/235 [==============================] - 3s 13ms/step - loss: 0.0817 - val_loss: 0.0813\n",
            "Epoch 89/100\n",
            "235/235 [==============================] - 3s 13ms/step - loss: 0.0817 - val_loss: 0.0814\n",
            "Epoch 90/100\n",
            "235/235 [==============================] - 3s 12ms/step - loss: 0.0817 - val_loss: 0.0813\n",
            "Epoch 91/100\n",
            "235/235 [==============================] - 3s 12ms/step - loss: 0.0814 - val_loss: 0.0814\n",
            "Epoch 92/100\n",
            "235/235 [==============================] - 3s 12ms/step - loss: 0.0813 - val_loss: 0.0815\n",
            "Epoch 93/100\n",
            "235/235 [==============================] - 3s 12ms/step - loss: 0.0816 - val_loss: 0.0814\n",
            "Epoch 94/100\n",
            "235/235 [==============================] - 3s 12ms/step - loss: 0.0816 - val_loss: 0.0811\n",
            "Epoch 95/100\n",
            "235/235 [==============================] - 3s 12ms/step - loss: 0.0812 - val_loss: 0.0812\n",
            "Epoch 96/100\n",
            "235/235 [==============================] - 3s 12ms/step - loss: 0.0813 - val_loss: 0.0813\n",
            "Epoch 97/100\n",
            "235/235 [==============================] - 3s 12ms/step - loss: 0.0815 - val_loss: 0.0814\n",
            "Epoch 98/100\n",
            "235/235 [==============================] - 3s 12ms/step - loss: 0.0814 - val_loss: 0.0814\n",
            "Epoch 99/100\n",
            "235/235 [==============================] - 3s 12ms/step - loss: 0.0812 - val_loss: 0.0812\n",
            "Epoch 100/100\n",
            "235/235 [==============================] - 3s 12ms/step - loss: 0.0812 - val_loss: 0.0811\n"
          ],
          "name": "stdout"
        },
        {
          "output_type": "execute_result",
          "data": {
            "text/plain": [
              "<tensorflow.python.keras.callbacks.History at 0x7f7a8232a290>"
            ]
          },
          "metadata": {
            "tags": []
          },
          "execution_count": 15
        }
      ]
    },
    {
      "cell_type": "markdown",
      "metadata": {
        "id": "zMeArQG7N2Lu"
      },
      "source": [
        "## convolutional autoencoders"
      ]
    },
    {
      "cell_type": "code",
      "metadata": {
        "id": "uM7xNmwgNu96"
      },
      "source": [
        "input_img = keras.Input(shape=(28, 28, 1))\n",
        "\n",
        "x = layers.Conv2D(16, (3, 3), activation='relu', padding='same')(input_img)\n",
        "x = layers.MaxPooling2D((2, 2), padding='same')(x)\n",
        "x = layers.Conv2D(8, (3, 3), activation='relu', padding='same')(x)\n",
        "x = layers.MaxPooling2D((2, 2), padding='same')(x)\n",
        "x = layers.Conv2D(8, (3, 3), activation='relu', padding='same')(x)\n",
        "encoded = layers.MaxPooling2D((2, 2), padding='same')(x)\n",
        "\n",
        "# at this point the representation is (4, 4, 8) i.e. 128-dimensional\n",
        "\n",
        "x = layers.Conv2D(8, (3, 3), activation='relu', padding='same')(encoded)\n",
        "x = layers.UpSampling2D((2, 2))(x)\n",
        "x = layers.Conv2D(8, (3, 3), activation='relu', padding='same')(x)\n",
        "x = layers.UpSampling2D((2, 2))(x)\n",
        "x = layers.Conv2D(16, (3, 3), activation='relu')(x)\n",
        "x = layers.UpSampling2D((2, 2))(x)\n",
        "decoded = layers.Conv2D(1, (3, 3), activation='sigmoid', padding='same')(x)\n",
        "\n",
        "autoencoder = keras.Model(input_img, decoded)\n",
        "autoencoder.compile(optimizer='adam', loss='binary_crossentropy')"
      ],
      "execution_count": 16,
      "outputs": []
    },
    {
      "cell_type": "code",
      "metadata": {
        "id": "OnompxjaN-2P"
      },
      "source": [
        "(x_train, _), (x_test, _) = mnist.load_data()\n",
        "\n",
        "x_train = x_train.astype('float32') / 255.\n",
        "x_test = x_test.astype('float32') / 255.\n",
        "x_train = np.reshape(x_train, (len(x_train), 28, 28, 1))\n",
        "x_test = np.reshape(x_test, (len(x_test), 28, 28, 1))"
      ],
      "execution_count": 17,
      "outputs": []
    },
    {
      "cell_type": "code",
      "metadata": {
        "id": "yiayB7Z6OFxK"
      },
      "source": [
        "%load_ext tensorboard\n",
        "%tensorboard --logdir=\"/tmp/autoencoder\""
      ],
      "execution_count": null,
      "outputs": []
    },
    {
      "cell_type": "code",
      "metadata": {
        "colab": {
          "base_uri": "https://localhost:8080/"
        },
        "id": "UFzeq64GOG4j",
        "outputId": "8885f7af-4ce1-4144-9c10-4341bb0d2cc2"
      },
      "source": [
        "from keras.callbacks import TensorBoard\n",
        "\n",
        "autoencoder.fit(x_train, x_train,\n",
        "                epochs=50,\n",
        "                batch_size=128,\n",
        "                shuffle=True,\n",
        "                validation_data=(x_test, x_test),\n",
        "                callbacks=[TensorBoard(log_dir='/tmp/autoencoder')])"
      ],
      "execution_count": 25,
      "outputs": [
        {
          "output_type": "stream",
          "text": [
            "Epoch 1/50\n",
            "469/469 [==============================] - 82s 173ms/step - loss: 0.3269 - val_loss: 0.1457\n",
            "Epoch 2/50\n",
            "469/469 [==============================] - 81s 172ms/step - loss: 0.1402 - val_loss: 0.1254\n",
            "Epoch 3/50\n",
            "469/469 [==============================] - 81s 172ms/step - loss: 0.1245 - val_loss: 0.1179\n",
            "Epoch 4/50\n",
            "469/469 [==============================] - 80s 171ms/step - loss: 0.1179 - val_loss: 0.1134\n",
            "Epoch 5/50\n",
            "469/469 [==============================] - 80s 172ms/step - loss: 0.1137 - val_loss: 0.1104\n",
            "Epoch 6/50\n",
            "469/469 [==============================] - 80s 172ms/step - loss: 0.1111 - val_loss: 0.1082\n",
            "Epoch 7/50\n",
            "469/469 [==============================] - 80s 172ms/step - loss: 0.1091 - val_loss: 0.1068\n",
            "Epoch 8/50\n",
            "469/469 [==============================] - 81s 172ms/step - loss: 0.1075 - val_loss: 0.1058\n",
            "Epoch 9/50\n",
            "469/469 [==============================] - 80s 172ms/step - loss: 0.1066 - val_loss: 0.1041\n",
            "Epoch 10/50\n",
            "469/469 [==============================] - 80s 171ms/step - loss: 0.1051 - val_loss: 0.1030\n",
            "Epoch 11/50\n",
            "469/469 [==============================] - 80s 171ms/step - loss: 0.1044 - val_loss: 0.1028\n",
            "Epoch 12/50\n",
            "469/469 [==============================] - 80s 171ms/step - loss: 0.1036 - val_loss: 0.1015\n",
            "Epoch 13/50\n",
            "469/469 [==============================] - 81s 172ms/step - loss: 0.1028 - val_loss: 0.1014\n",
            "Epoch 14/50\n",
            "469/469 [==============================] - 80s 171ms/step - loss: 0.1025 - val_loss: 0.1009\n",
            "Epoch 15/50\n",
            "469/469 [==============================] - 81s 172ms/step - loss: 0.1016 - val_loss: 0.1000\n",
            "Epoch 16/50\n",
            "469/469 [==============================] - 81s 172ms/step - loss: 0.1010 - val_loss: 0.0999\n",
            "Epoch 17/50\n",
            "469/469 [==============================] - 80s 172ms/step - loss: 0.1009 - val_loss: 0.0992\n",
            "Epoch 18/50\n",
            "469/469 [==============================] - 80s 171ms/step - loss: 0.1003 - val_loss: 0.0987\n",
            "Epoch 19/50\n",
            "469/469 [==============================] - 81s 172ms/step - loss: 0.0997 - val_loss: 0.0982\n",
            "Epoch 20/50\n",
            "469/469 [==============================] - 81s 172ms/step - loss: 0.0993 - val_loss: 0.0978\n",
            "Epoch 21/50\n",
            "469/469 [==============================] - 81s 172ms/step - loss: 0.0989 - val_loss: 0.0982\n",
            "Epoch 22/50\n",
            "469/469 [==============================] - 81s 173ms/step - loss: 0.0988 - val_loss: 0.0975\n",
            "Epoch 23/50\n",
            "469/469 [==============================] - 81s 173ms/step - loss: 0.0983 - val_loss: 0.0969\n",
            "Epoch 24/50\n",
            "469/469 [==============================] - 81s 172ms/step - loss: 0.0982 - val_loss: 0.0968\n",
            "Epoch 25/50\n",
            "469/469 [==============================] - 81s 173ms/step - loss: 0.0976 - val_loss: 0.0962\n",
            "Epoch 26/50\n",
            "469/469 [==============================] - 81s 174ms/step - loss: 0.0975 - val_loss: 0.0960\n",
            "Epoch 27/50\n",
            "469/469 [==============================] - 81s 173ms/step - loss: 0.0972 - val_loss: 0.0957\n",
            "Epoch 28/50\n",
            "469/469 [==============================] - 81s 173ms/step - loss: 0.0970 - val_loss: 0.0955\n",
            "Epoch 29/50\n",
            "469/469 [==============================] - 81s 173ms/step - loss: 0.0966 - val_loss: 0.0953\n",
            "Epoch 30/50\n",
            "469/469 [==============================] - 81s 174ms/step - loss: 0.0966 - val_loss: 0.0953\n",
            "Epoch 31/50\n",
            "469/469 [==============================] - 81s 173ms/step - loss: 0.0963 - val_loss: 0.0949\n",
            "Epoch 32/50\n",
            "469/469 [==============================] - 81s 173ms/step - loss: 0.0960 - val_loss: 0.0949\n",
            "Epoch 33/50\n",
            "469/469 [==============================] - 81s 173ms/step - loss: 0.0959 - val_loss: 0.0945\n",
            "Epoch 34/50\n",
            "469/469 [==============================] - 81s 173ms/step - loss: 0.0956 - val_loss: 0.0943\n",
            "Epoch 35/50\n",
            "469/469 [==============================] - 81s 173ms/step - loss: 0.0954 - val_loss: 0.0944\n",
            "Epoch 36/50\n",
            "469/469 [==============================] - 81s 173ms/step - loss: 0.0954 - val_loss: 0.0942\n",
            "Epoch 37/50\n",
            "469/469 [==============================] - 81s 173ms/step - loss: 0.0951 - val_loss: 0.0939\n",
            "Epoch 38/50\n",
            "469/469 [==============================] - 81s 173ms/step - loss: 0.0952 - val_loss: 0.0942\n",
            "Epoch 39/50\n",
            "469/469 [==============================] - 81s 172ms/step - loss: 0.0951 - val_loss: 0.0936\n",
            "Epoch 40/50\n",
            "469/469 [==============================] - 81s 173ms/step - loss: 0.0948 - val_loss: 0.0934\n",
            "Epoch 41/50\n",
            "469/469 [==============================] - 81s 174ms/step - loss: 0.0946 - val_loss: 0.0938\n",
            "Epoch 42/50\n",
            "469/469 [==============================] - 82s 174ms/step - loss: 0.0946 - val_loss: 0.0930\n",
            "Epoch 43/50\n",
            "469/469 [==============================] - 81s 174ms/step - loss: 0.0941 - val_loss: 0.0931\n",
            "Epoch 44/50\n",
            "469/469 [==============================] - 81s 173ms/step - loss: 0.0942 - val_loss: 0.0930\n",
            "Epoch 45/50\n",
            "469/469 [==============================] - 81s 174ms/step - loss: 0.0943 - val_loss: 0.0932\n",
            "Epoch 46/50\n",
            "469/469 [==============================] - 82s 174ms/step - loss: 0.0942 - val_loss: 0.0927\n",
            "Epoch 47/50\n",
            "469/469 [==============================] - 81s 174ms/step - loss: 0.0939 - val_loss: 0.0926\n",
            "Epoch 48/50\n",
            "469/469 [==============================] - 82s 174ms/step - loss: 0.0937 - val_loss: 0.0926\n",
            "Epoch 49/50\n",
            "469/469 [==============================] - 82s 174ms/step - loss: 0.0935 - val_loss: 0.0929\n",
            "Epoch 50/50\n",
            "469/469 [==============================] - 81s 173ms/step - loss: 0.0935 - val_loss: 0.0925\n"
          ],
          "name": "stdout"
        },
        {
          "output_type": "execute_result",
          "data": {
            "text/plain": [
              "<tensorflow.python.keras.callbacks.History at 0x7f7a7fa5dad0>"
            ]
          },
          "metadata": {
            "tags": []
          },
          "execution_count": 25
        }
      ]
    },
    {
      "cell_type": "code",
      "metadata": {
        "colab": {
          "base_uri": "https://localhost:8080/",
          "height": 248
        },
        "id": "fCirTxYLOq3r",
        "outputId": "2daa9390-526a-4c73-a1a6-558f4f354f52"
      },
      "source": [
        "decoded_imgs = autoencoder.predict(x_test)\n",
        "\n",
        "n = 10\n",
        "plt.figure(figsize=(20, 4))\n",
        "for i in range(1, n + 1):\n",
        "    # Display original\n",
        "    ax = plt.subplot(2, n, i)\n",
        "    plt.imshow(x_test[i].reshape(28, 28))\n",
        "    plt.gray()\n",
        "    ax.get_xaxis().set_visible(False)\n",
        "    ax.get_yaxis().set_visible(False)\n",
        "\n",
        "    # Display reconstruction\n",
        "    ax = plt.subplot(2, n, i + n)\n",
        "    plt.imshow(decoded_imgs[i].reshape(28, 28))\n",
        "    plt.gray()\n",
        "    ax.get_xaxis().set_visible(False)\n",
        "    ax.get_yaxis().set_visible(False)\n",
        "plt.show()"
      ],
      "execution_count": 26,
      "outputs": [
        {
          "output_type": "display_data",
          "data": {
            "image/png": "[encoded data removed]",
            "text/plain": [
              "<Figure size 1440x288 with 20 Axes>"
            ]
          },
          "metadata": {
            "tags": [],
            "needs_background": "light"
          }
        }
      ]
    },
    {
      "cell_type": "code",
      "metadata": {
        "colab": {
          "base_uri": "https://localhost:8080/",
          "height": 469
        },
        "id": "67VYAKLjOwUh",
        "outputId": "bc222e0f-a7cd-4f97-968e-5c2109c9acbd"
      },
      "source": [
        "encoder = keras.Model(input_img, encoded)\n",
        "encoded_imgs = encoder.predict(x_test)\n",
        "\n",
        "n = 10\n",
        "plt.figure(figsize=(20, 8))\n",
        "for i in range(1, n + 1):\n",
        "    ax = plt.subplot(1, n, i)\n",
        "    plt.imshow(encoded_imgs[i].reshape((4, 4 * 8)).T)\n",
        "    plt.gray()\n",
        "    ax.get_xaxis().set_visible(False)\n",
        "    ax.get_yaxis().set_visible(False)\n",
        "plt.show()"
      ],
      "execution_count": 27,
      "outputs": [
        {
          "output_type": "display_data",
          "data": {
            "image/png": "[encoded data removed]",
            "text/plain": [
              "<Figure size 1440x576 with 10 Axes>"
            ]
          },
          "metadata": {
            "tags": [],
            "needs_background": "light"
          }
        }
      ]
    },
    {
      "cell_type": "markdown",
      "metadata": {
        "id": "qnl6W31KPcmo"
      },
      "source": [
        "## Image denoising"
      ]
    },
    {
      "cell_type": "code",
      "metadata": {
        "id": "bIAnorljPcOs"
      },
      "source": [
        "(x_train, _), (x_test, _) = mnist.load_data()\n",
        "\n",
        "x_train = x_train.astype('float32') / 255.\n",
        "x_test = x_test.astype('float32') / 255.\n",
        "x_train = np.reshape(x_train, (len(x_train), 28, 28, 1))\n",
        "x_test = np.reshape(x_test, (len(x_test), 28, 28, 1))\n",
        "## add noise to immages\n",
        "noise_factor = 0.5\n",
        "x_train_noisy = x_train + noise_factor * np.random.normal(loc=0.0, scale=1.0, size=x_train.shape) \n",
        "x_test_noisy = x_test + noise_factor * np.random.normal(loc=0.0, scale=1.0, size=x_test.shape) \n",
        "\n",
        "x_train_noisy = np.clip(x_train_noisy, 0., 1.)\n",
        "x_test_noisy = np.clip(x_test_noisy, 0., 1.)\n"
      ],
      "execution_count": 28,
      "outputs": []
    },
    {
      "cell_type": "code",
      "metadata": {
        "colab": {
          "base_uri": "https://localhost:8080/",
          "height": 129
        },
        "id": "kJ13H-6hPk5n",
        "outputId": "7b6e6ed0-3eb3-4cd1-8438-d26fb4339891"
      },
      "source": [
        "n = 10\n",
        "plt.figure(figsize=(20, 2))\n",
        "for i in range(1, n + 1):\n",
        "    ax = plt.subplot(1, n, i)\n",
        "    plt.imshow(x_test_noisy[i].reshape(28, 28))\n",
        "    plt.gray()\n",
        "    ax.get_xaxis().set_visible(False)\n",
        "    ax.get_yaxis().set_visible(False)\n",
        "plt.show()"
      ],
      "execution_count": 29,
      "outputs": [
        {
          "output_type": "display_data",
          "data": {
            "image/png": "[encoded data removed]",
            "text/plain": [
              "<Figure size 1440x144 with 10 Axes>"
            ]
          },
          "metadata": {
            "tags": [],
            "needs_background": "light"
          }
        }
      ]
    },
    {
      "cell_type": "code",
      "metadata": {
        "id": "FvOrNkp3PmyX"
      },
      "source": [
        "# build conv autoencoder to denoise\n",
        "input_img = keras.Input(shape=(28, 28, 1))\n",
        "\n",
        "x = layers.Conv2D(32, (3, 3), activation='relu', padding='same')(input_img)\n",
        "x = layers.MaxPooling2D((2, 2), padding='same')(x)\n",
        "x = layers.Conv2D(32, (3, 3), activation='relu', padding='same')(x)\n",
        "encoded = layers.MaxPooling2D((2, 2), padding='same')(x)\n",
        "\n",
        "# At this point the representation is (7, 7, 32)\n",
        "\n",
        "x = layers.Conv2D(32, (3, 3), activation='relu', padding='same')(encoded)\n",
        "x = layers.UpSampling2D((2, 2))(x)\n",
        "x = layers.Conv2D(32, (3, 3), activation='relu', padding='same')(x)\n",
        "x = layers.UpSampling2D((2, 2))(x)\n",
        "decoded = layers.Conv2D(1, (3, 3), activation='sigmoid', padding='same')(x)\n",
        "\n",
        "autoencoder = keras.Model(input_img, decoded)\n",
        "autoencoder.compile(optimizer='adam', loss='binary_crossentropy')"
      ],
      "execution_count": 30,
      "outputs": []
    },
    {
      "cell_type": "code",
      "metadata": {
        "colab": {
          "base_uri": "https://localhost:8080/"
        },
        "id": "4UxnX-hYPsY-",
        "outputId": "99170f0a-cb09-4b78-b0d8-53eeae192920"
      },
      "source": [
        "autoencoder.fit(x_train_noisy, x_train,\n",
        "                epochs=100,\n",
        "                batch_size=128,\n",
        "                shuffle=True,\n",
        "                validation_data=(x_test_noisy, x_test),\n",
        "                callbacks=[TensorBoard(log_dir='/tmp/tb', histogram_freq=0, write_graph=False)])"
      ],
      "execution_count": 31,
      "outputs": [
        {
          "output_type": "stream",
          "text": [
            "Epoch 1/100\n",
            "469/469 [==============================] - 147s 312ms/step - loss: 0.2628 - val_loss: 0.1158\n",
            "Epoch 2/100\n",
            "469/469 [==============================] - 147s 313ms/step - loss: 0.1147 - val_loss: 0.1086\n",
            "Epoch 3/100\n",
            "469/469 [==============================] - 147s 314ms/step - loss: 0.1085 - val_loss: 0.1054\n",
            "Epoch 4/100\n",
            "469/469 [==============================] - 147s 313ms/step - loss: 0.1053 - val_loss: 0.1029\n",
            "Epoch 5/100\n",
            "469/469 [==============================] - 147s 314ms/step - loss: 0.1035 - val_loss: 0.1016\n",
            "Epoch 6/100\n",
            "469/469 [==============================] - 146s 312ms/step - loss: 0.1021 - val_loss: 0.1009\n",
            "Epoch 7/100\n",
            "469/469 [==============================] - 147s 313ms/step - loss: 0.1009 - val_loss: 0.0995\n",
            "Epoch 8/100\n",
            "469/469 [==============================] - 146s 311ms/step - loss: 0.1001 - val_loss: 0.0988\n",
            "Epoch 9/100\n",
            "469/469 [==============================] - 145s 310ms/step - loss: 0.0992 - val_loss: 0.0979\n",
            "Epoch 10/100\n",
            "469/469 [==============================] - 146s 311ms/step - loss: 0.0984 - val_loss: 0.0977\n",
            "Epoch 11/100\n",
            "469/469 [==============================] - 146s 311ms/step - loss: 0.0981 - val_loss: 0.0972\n",
            "Epoch 12/100\n",
            "469/469 [==============================] - 146s 311ms/step - loss: 0.0976 - val_loss: 0.0967\n",
            "Epoch 13/100\n",
            "469/469 [==============================] - 146s 311ms/step - loss: 0.0972 - val_loss: 0.0966\n",
            "Epoch 14/100\n",
            "469/469 [==============================] - 146s 311ms/step - loss: 0.0969 - val_loss: 0.0961\n",
            "Epoch 15/100\n",
            "469/469 [==============================] - 145s 309ms/step - loss: 0.0965 - val_loss: 0.0959\n",
            "Epoch 16/100\n",
            "469/469 [==============================] - 145s 309ms/step - loss: 0.0964 - val_loss: 0.0958\n",
            "Epoch 17/100\n",
            "469/469 [==============================] - 145s 309ms/step - loss: 0.0963 - val_loss: 0.0955\n",
            "Epoch 18/100\n",
            "469/469 [==============================] - 145s 309ms/step - loss: 0.0959 - val_loss: 0.0952\n",
            "Epoch 19/100\n",
            "469/469 [==============================] - 145s 309ms/step - loss: 0.0956 - val_loss: 0.0954\n",
            "Epoch 20/100\n",
            "469/469 [==============================] - 145s 310ms/step - loss: 0.0956 - val_loss: 0.0951\n",
            "Epoch 21/100\n",
            "469/469 [==============================] - 146s 311ms/step - loss: 0.0954 - val_loss: 0.0949\n",
            "Epoch 22/100\n",
            "469/469 [==============================] - 145s 310ms/step - loss: 0.0953 - val_loss: 0.0949\n",
            "Epoch 23/100\n",
            "469/469 [==============================] - 145s 309ms/step - loss: 0.0954 - val_loss: 0.0947\n",
            "Epoch 24/100\n",
            "469/469 [==============================] - 145s 309ms/step - loss: 0.0950 - val_loss: 0.0947\n",
            "Epoch 25/100\n",
            "469/469 [==============================] - 145s 308ms/step - loss: 0.0950 - val_loss: 0.0945\n",
            "Epoch 26/100\n",
            "469/469 [==============================] - 145s 308ms/step - loss: 0.0950 - val_loss: 0.0946\n",
            "Epoch 27/100\n",
            "469/469 [==============================] - 144s 308ms/step - loss: 0.0950 - val_loss: 0.0944\n",
            "Epoch 28/100\n",
            "469/469 [==============================] - 144s 307ms/step - loss: 0.0947 - val_loss: 0.0944\n",
            "Epoch 29/100\n",
            "469/469 [==============================] - 144s 307ms/step - loss: 0.0947 - val_loss: 0.0943\n",
            "Epoch 30/100\n",
            "469/469 [==============================] - 144s 307ms/step - loss: 0.0946 - val_loss: 0.0942\n",
            "Epoch 31/100\n",
            "469/469 [==============================] - 144s 308ms/step - loss: 0.0947 - val_loss: 0.0945\n",
            "Epoch 32/100\n",
            "469/469 [==============================] - 144s 307ms/step - loss: 0.0945 - val_loss: 0.0941\n",
            "Epoch 33/100\n",
            "469/469 [==============================] - 143s 305ms/step - loss: 0.0943 - val_loss: 0.0942\n",
            "Epoch 34/100\n",
            "469/469 [==============================] - 143s 305ms/step - loss: 0.0945 - val_loss: 0.0942\n",
            "Epoch 35/100\n",
            "469/469 [==============================] - 143s 305ms/step - loss: 0.0942 - val_loss: 0.0942\n",
            "Epoch 36/100\n",
            "469/469 [==============================] - 144s 306ms/step - loss: 0.0942 - val_loss: 0.0942\n",
            "Epoch 37/100\n",
            "469/469 [==============================] - 144s 307ms/step - loss: 0.0944 - val_loss: 0.0940\n",
            "Epoch 38/100\n",
            "469/469 [==============================] - 144s 307ms/step - loss: 0.0943 - val_loss: 0.0939\n",
            "Epoch 39/100\n",
            "469/469 [==============================] - 144s 306ms/step - loss: 0.0942 - val_loss: 0.0940\n",
            "Epoch 40/100\n",
            "469/469 [==============================] - 144s 307ms/step - loss: 0.0941 - val_loss: 0.0940\n",
            "Epoch 41/100\n",
            "469/469 [==============================] - 143s 305ms/step - loss: 0.0942 - val_loss: 0.0939\n",
            "Epoch 42/100\n",
            "469/469 [==============================] - 142s 303ms/step - loss: 0.0942 - val_loss: 0.0937\n",
            "Epoch 43/100\n",
            "469/469 [==============================] - 142s 302ms/step - loss: 0.0939 - val_loss: 0.0937\n",
            "Epoch 44/100\n",
            "469/469 [==============================] - 142s 303ms/step - loss: 0.0940 - val_loss: 0.0938\n",
            "Epoch 45/100\n",
            "469/469 [==============================] - 143s 304ms/step - loss: 0.0939 - val_loss: 0.0940\n",
            "Epoch 46/100\n",
            "469/469 [==============================] - 142s 302ms/step - loss: 0.0939 - val_loss: 0.0938\n",
            "Epoch 47/100\n",
            "469/469 [==============================] - 141s 301ms/step - loss: 0.0938 - val_loss: 0.0936\n",
            "Epoch 48/100\n",
            "469/469 [==============================] - 142s 302ms/step - loss: 0.0936 - val_loss: 0.0936\n",
            "Epoch 49/100\n",
            "469/469 [==============================] - 141s 301ms/step - loss: 0.0939 - val_loss: 0.0939\n",
            "Epoch 50/100\n",
            "469/469 [==============================] - 141s 301ms/step - loss: 0.0938 - val_loss: 0.0936\n",
            "Epoch 51/100\n",
            "469/469 [==============================] - 141s 301ms/step - loss: 0.0939 - val_loss: 0.0938\n",
            "Epoch 52/100\n",
            "469/469 [==============================] - 141s 301ms/step - loss: 0.0937 - val_loss: 0.0939\n",
            "Epoch 53/100\n",
            "469/469 [==============================] - 141s 301ms/step - loss: 0.0938 - val_loss: 0.0937\n",
            "Epoch 54/100\n",
            "469/469 [==============================] - 141s 301ms/step - loss: 0.0938 - val_loss: 0.0936\n",
            "Epoch 55/100\n",
            "469/469 [==============================] - 141s 302ms/step - loss: 0.0937 - val_loss: 0.0938\n",
            "Epoch 56/100\n",
            "469/469 [==============================] - 141s 301ms/step - loss: 0.0939 - val_loss: 0.0935\n",
            "Epoch 57/100\n",
            "469/469 [==============================] - 141s 301ms/step - loss: 0.0936 - val_loss: 0.0935\n",
            "Epoch 58/100\n",
            "469/469 [==============================] - 141s 301ms/step - loss: 0.0935 - val_loss: 0.0935\n",
            "Epoch 59/100\n",
            "469/469 [==============================] - 141s 301ms/step - loss: 0.0937 - val_loss: 0.0934\n",
            "Epoch 60/100\n",
            "469/469 [==============================] - 141s 301ms/step - loss: 0.0936 - val_loss: 0.0940\n",
            "Epoch 61/100\n",
            "469/469 [==============================] - 141s 301ms/step - loss: 0.0936 - val_loss: 0.0936\n",
            "Epoch 62/100\n",
            "469/469 [==============================] - 141s 301ms/step - loss: 0.0936 - val_loss: 0.0935\n",
            "Epoch 63/100\n",
            "469/469 [==============================] - 141s 301ms/step - loss: 0.0935 - val_loss: 0.0935\n",
            "Epoch 64/100\n",
            "469/469 [==============================] - 141s 301ms/step - loss: 0.0934 - val_loss: 0.0933\n",
            "Epoch 65/100\n",
            "469/469 [==============================] - 142s 302ms/step - loss: 0.0934 - val_loss: 0.0935\n",
            "Epoch 66/100\n",
            "469/469 [==============================] - 142s 303ms/step - loss: 0.0935 - val_loss: 0.0934\n",
            "Epoch 67/100\n",
            "469/469 [==============================] - 141s 302ms/step - loss: 0.0934 - val_loss: 0.0936\n",
            "Epoch 68/100\n",
            "469/469 [==============================] - 141s 301ms/step - loss: 0.0934 - val_loss: 0.0934\n",
            "Epoch 69/100\n",
            "469/469 [==============================] - 141s 301ms/step - loss: 0.0933 - val_loss: 0.0934\n",
            "Epoch 70/100\n",
            "469/469 [==============================] - 141s 301ms/step - loss: 0.0935 - val_loss: 0.0934\n",
            "Epoch 71/100\n",
            "469/469 [==============================] - 142s 303ms/step - loss: 0.0934 - val_loss: 0.0934\n",
            "Epoch 72/100\n",
            "469/469 [==============================] - 142s 302ms/step - loss: 0.0934 - val_loss: 0.0936\n",
            "Epoch 73/100\n",
            "469/469 [==============================] - 142s 302ms/step - loss: 0.0934 - val_loss: 0.0933\n",
            "Epoch 74/100\n",
            "469/469 [==============================] - 142s 303ms/step - loss: 0.0935 - val_loss: 0.0935\n",
            "Epoch 75/100\n",
            "469/469 [==============================] - 142s 302ms/step - loss: 0.0932 - val_loss: 0.0933\n",
            "Epoch 76/100\n",
            "469/469 [==============================] - 141s 301ms/step - loss: 0.0934 - val_loss: 0.0933\n",
            "Epoch 77/100\n",
            "469/469 [==============================] - 142s 302ms/step - loss: 0.0934 - val_loss: 0.0934\n",
            "Epoch 78/100\n",
            "469/469 [==============================] - 141s 301ms/step - loss: 0.0934 - val_loss: 0.0936\n",
            "Epoch 79/100\n",
            "469/469 [==============================] - 142s 302ms/step - loss: 0.0933 - val_loss: 0.0935\n",
            "Epoch 80/100\n",
            "469/469 [==============================] - 142s 302ms/step - loss: 0.0933 - val_loss: 0.0933\n",
            "Epoch 81/100\n",
            "469/469 [==============================] - 142s 303ms/step - loss: 0.0932 - val_loss: 0.0933\n",
            "Epoch 82/100\n",
            "469/469 [==============================] - 142s 303ms/step - loss: 0.0932 - val_loss: 0.0933\n",
            "Epoch 83/100\n",
            "469/469 [==============================] - 141s 301ms/step - loss: 0.0930 - val_loss: 0.0933\n",
            "Epoch 84/100\n",
            "469/469 [==============================] - 142s 303ms/step - loss: 0.0932 - val_loss: 0.0932\n",
            "Epoch 85/100\n",
            "469/469 [==============================] - 141s 302ms/step - loss: 0.0934 - val_loss: 0.0934\n",
            "Epoch 86/100\n",
            "469/469 [==============================] - 142s 302ms/step - loss: 0.0933 - val_loss: 0.0933\n",
            "Epoch 87/100\n",
            "469/469 [==============================] - 142s 302ms/step - loss: 0.0933 - val_loss: 0.0934\n",
            "Epoch 88/100\n",
            "469/469 [==============================] - 142s 303ms/step - loss: 0.0934 - val_loss: 0.0933\n",
            "Epoch 89/100\n",
            "469/469 [==============================] - 142s 302ms/step - loss: 0.0932 - val_loss: 0.0935\n",
            "Epoch 90/100\n",
            "469/469 [==============================] - 141s 301ms/step - loss: 0.0933 - val_loss: 0.0934\n",
            "Epoch 91/100\n",
            "469/469 [==============================] - 142s 302ms/step - loss: 0.0932 - val_loss: 0.0935\n",
            "Epoch 92/100\n",
            "469/469 [==============================] - 142s 302ms/step - loss: 0.0932 - val_loss: 0.0934\n",
            "Epoch 93/100\n",
            "469/469 [==============================] - 141s 301ms/step - loss: 0.0931 - val_loss: 0.0932\n",
            "Epoch 94/100\n",
            "469/469 [==============================] - 141s 301ms/step - loss: 0.0933 - val_loss: 0.0933\n",
            "Epoch 95/100\n",
            "469/469 [==============================] - 142s 302ms/step - loss: 0.0932 - val_loss: 0.0932\n",
            "Epoch 96/100\n",
            "469/469 [==============================] - 142s 302ms/step - loss: 0.0930 - val_loss: 0.0932\n",
            "Epoch 97/100\n",
            "469/469 [==============================] - 141s 302ms/step - loss: 0.0932 - val_loss: 0.0935\n",
            "Epoch 98/100\n",
            "469/469 [==============================] - 142s 303ms/step - loss: 0.0930 - val_loss: 0.0935\n",
            "Epoch 99/100\n",
            "469/469 [==============================] - 142s 302ms/step - loss: 0.0931 - val_loss: 0.0932\n",
            "Epoch 100/100\n",
            "469/469 [==============================] - 141s 301ms/step - loss: 0.0932 - val_loss: 0.0932\n"
          ],
          "name": "stdout"
        },
        {
          "output_type": "execute_result",
          "data": {
            "text/plain": [
              "<tensorflow.python.keras.callbacks.History at 0x7f7a828250d0>"
            ]
          },
          "metadata": {
            "tags": []
          },
          "execution_count": 31
        }
      ]
    }
  ]
}