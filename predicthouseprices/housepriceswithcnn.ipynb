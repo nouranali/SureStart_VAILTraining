{
  "nbformat": 4,
  "nbformat_minor": 0,
  "metadata": {
    "colab": {
      "name": "housepriceswithcnn.ipynb",
      "provenance": []
    },
    "kernelspec": {
      "name": "python3",
      "display_name": "Python 3"
    }
  },
  "cells": [
    {
      "cell_type": "markdown",
      "metadata": {
        "id": "_wuR2v0H82Xl"
      },
      "source": [
        "# In this notebook I'll apply a CNN to classify house prices, above or below average"
      ]
    },
    {
      "cell_type": "markdown",
      "metadata": {
        "id": "qifymsvL9AO9"
      },
      "source": [
        "### importing libraries"
      ]
    },
    {
      "cell_type": "code",
      "metadata": {
        "id": "5FAwS_v7VEe8"
      },
      "source": [
        "import pandas as pd\n",
        "import numpy as np\n",
        "from sklearn.model_selection import train_test_split\n",
        "from sklearn import preprocessing\n",
        "from keras.models import Sequential\n",
        "from keras.layers import Dense \n",
        "from keras.layers import Dropout\n",
        "from keras import regularizers\n",
        "import matplotlib.pyplot as plt\n",
        "%matplotlib inline"
      ],
      "execution_count": null,
      "outputs": []
    },
    {
      "cell_type": "markdown",
      "metadata": {
        "id": "KqFx9l2D9DBu"
      },
      "source": [
        "### read dataset and show info. "
      ]
    },
    {
      "cell_type": "code",
      "metadata": {
        "id": "35QVGpMkVhOI"
      },
      "source": [
        "df=pd.read_csv('/content/drive/MyDrive/DataScience/housepricedata.csv')"
      ],
      "execution_count": null,
      "outputs": []
    },
    {
      "cell_type": "code",
      "metadata": {
        "colab": {
          "base_uri": "https://localhost:8080/",
          "height": 218
        },
        "id": "-IjCI6oiVnW6",
        "outputId": "860cbcbb-22a9-4447-ca3e-72421c3a0a0d"
      },
      "source": [
        "df.head()"
      ],
      "execution_count": null,
      "outputs": [
        {
          "output_type": "execute_result",
          "data": {
            "text/html": [
              "<div>\n",
              "<style scoped>\n",
              "    .dataframe tbody tr th:only-of-type {\n",
              "        vertical-align: middle;\n",
              "    }\n",
              "\n",
              "    .dataframe tbody tr th {\n",
              "        vertical-align: top;\n",
              "    }\n",
              "\n",
              "    .dataframe thead th {\n",
              "        text-align: right;\n",
              "    }\n",
              "</style>\n",
              "<table border=\"1\" class=\"dataframe\">\n",
              "  <thead>\n",
              "    <tr style=\"text-align: right;\">\n",
              "      <th></th>\n",
              "      <th>LotArea</th>\n",
              "      <th>OverallQual</th>\n",
              "      <th>OverallCond</th>\n",
              "      <th>TotalBsmtSF</th>\n",
              "      <th>FullBath</th>\n",
              "      <th>HalfBath</th>\n",
              "      <th>BedroomAbvGr</th>\n",
              "      <th>TotRmsAbvGrd</th>\n",
              "      <th>Fireplaces</th>\n",
              "      <th>GarageArea</th>\n",
              "      <th>AboveMedianPrice</th>\n",
              "    </tr>\n",
              "  </thead>\n",
              "  <tbody>\n",
              "    <tr>\n",
              "      <th>0</th>\n",
              "      <td>8450</td>\n",
              "      <td>7</td>\n",
              "      <td>5</td>\n",
              "      <td>856</td>\n",
              "      <td>2</td>\n",
              "      <td>1</td>\n",
              "      <td>3</td>\n",
              "      <td>8</td>\n",
              "      <td>0</td>\n",
              "      <td>548</td>\n",
              "      <td>1</td>\n",
              "    </tr>\n",
              "    <tr>\n",
              "      <th>1</th>\n",
              "      <td>9600</td>\n",
              "      <td>6</td>\n",
              "      <td>8</td>\n",
              "      <td>1262</td>\n",
              "      <td>2</td>\n",
              "      <td>0</td>\n",
              "      <td>3</td>\n",
              "      <td>6</td>\n",
              "      <td>1</td>\n",
              "      <td>460</td>\n",
              "      <td>1</td>\n",
              "    </tr>\n",
              "    <tr>\n",
              "      <th>2</th>\n",
              "      <td>11250</td>\n",
              "      <td>7</td>\n",
              "      <td>5</td>\n",
              "      <td>920</td>\n",
              "      <td>2</td>\n",
              "      <td>1</td>\n",
              "      <td>3</td>\n",
              "      <td>6</td>\n",
              "      <td>1</td>\n",
              "      <td>608</td>\n",
              "      <td>1</td>\n",
              "    </tr>\n",
              "    <tr>\n",
              "      <th>3</th>\n",
              "      <td>9550</td>\n",
              "      <td>7</td>\n",
              "      <td>5</td>\n",
              "      <td>756</td>\n",
              "      <td>1</td>\n",
              "      <td>0</td>\n",
              "      <td>3</td>\n",
              "      <td>7</td>\n",
              "      <td>1</td>\n",
              "      <td>642</td>\n",
              "      <td>0</td>\n",
              "    </tr>\n",
              "    <tr>\n",
              "      <th>4</th>\n",
              "      <td>14260</td>\n",
              "      <td>8</td>\n",
              "      <td>5</td>\n",
              "      <td>1145</td>\n",
              "      <td>2</td>\n",
              "      <td>1</td>\n",
              "      <td>4</td>\n",
              "      <td>9</td>\n",
              "      <td>1</td>\n",
              "      <td>836</td>\n",
              "      <td>1</td>\n",
              "    </tr>\n",
              "  </tbody>\n",
              "</table>\n",
              "</div>"
            ],
            "text/plain": [
              "   LotArea  OverallQual  OverallCond  ...  Fireplaces  GarageArea  AboveMedianPrice\n",
              "0     8450            7            5  ...           0         548                 1\n",
              "1     9600            6            8  ...           1         460                 1\n",
              "2    11250            7            5  ...           1         608                 1\n",
              "3     9550            7            5  ...           1         642                 0\n",
              "4    14260            8            5  ...           1         836                 1\n",
              "\n",
              "[5 rows x 11 columns]"
            ]
          },
          "metadata": {
            "tags": []
          },
          "execution_count": 4
        }
      ]
    },
    {
      "cell_type": "code",
      "metadata": {
        "colab": {
          "base_uri": "https://localhost:8080/",
          "height": 218
        },
        "id": "4JbQJO5eVqYL",
        "outputId": "745da8ba-55c2-42e3-dd4b-afa657808d05"
      },
      "source": [
        "df.tail()"
      ],
      "execution_count": null,
      "outputs": [
        {
          "output_type": "execute_result",
          "data": {
            "text/html": [
              "<div>\n",
              "<style scoped>\n",
              "    .dataframe tbody tr th:only-of-type {\n",
              "        vertical-align: middle;\n",
              "    }\n",
              "\n",
              "    .dataframe tbody tr th {\n",
              "        vertical-align: top;\n",
              "    }\n",
              "\n",
              "    .dataframe thead th {\n",
              "        text-align: right;\n",
              "    }\n",
              "</style>\n",
              "<table border=\"1\" class=\"dataframe\">\n",
              "  <thead>\n",
              "    <tr style=\"text-align: right;\">\n",
              "      <th></th>\n",
              "      <th>LotArea</th>\n",
              "      <th>OverallQual</th>\n",
              "      <th>OverallCond</th>\n",
              "      <th>TotalBsmtSF</th>\n",
              "      <th>FullBath</th>\n",
              "      <th>HalfBath</th>\n",
              "      <th>BedroomAbvGr</th>\n",
              "      <th>TotRmsAbvGrd</th>\n",
              "      <th>Fireplaces</th>\n",
              "      <th>GarageArea</th>\n",
              "      <th>AboveMedianPrice</th>\n",
              "    </tr>\n",
              "  </thead>\n",
              "  <tbody>\n",
              "    <tr>\n",
              "      <th>1455</th>\n",
              "      <td>7917</td>\n",
              "      <td>6</td>\n",
              "      <td>5</td>\n",
              "      <td>953</td>\n",
              "      <td>2</td>\n",
              "      <td>1</td>\n",
              "      <td>3</td>\n",
              "      <td>7</td>\n",
              "      <td>1</td>\n",
              "      <td>460</td>\n",
              "      <td>1</td>\n",
              "    </tr>\n",
              "    <tr>\n",
              "      <th>1456</th>\n",
              "      <td>13175</td>\n",
              "      <td>6</td>\n",
              "      <td>6</td>\n",
              "      <td>1542</td>\n",
              "      <td>2</td>\n",
              "      <td>0</td>\n",
              "      <td>3</td>\n",
              "      <td>7</td>\n",
              "      <td>2</td>\n",
              "      <td>500</td>\n",
              "      <td>1</td>\n",
              "    </tr>\n",
              "    <tr>\n",
              "      <th>1457</th>\n",
              "      <td>9042</td>\n",
              "      <td>7</td>\n",
              "      <td>9</td>\n",
              "      <td>1152</td>\n",
              "      <td>2</td>\n",
              "      <td>0</td>\n",
              "      <td>4</td>\n",
              "      <td>9</td>\n",
              "      <td>2</td>\n",
              "      <td>252</td>\n",
              "      <td>1</td>\n",
              "    </tr>\n",
              "    <tr>\n",
              "      <th>1458</th>\n",
              "      <td>9717</td>\n",
              "      <td>5</td>\n",
              "      <td>6</td>\n",
              "      <td>1078</td>\n",
              "      <td>1</td>\n",
              "      <td>0</td>\n",
              "      <td>2</td>\n",
              "      <td>5</td>\n",
              "      <td>0</td>\n",
              "      <td>240</td>\n",
              "      <td>0</td>\n",
              "    </tr>\n",
              "    <tr>\n",
              "      <th>1459</th>\n",
              "      <td>9937</td>\n",
              "      <td>5</td>\n",
              "      <td>6</td>\n",
              "      <td>1256</td>\n",
              "      <td>1</td>\n",
              "      <td>1</td>\n",
              "      <td>3</td>\n",
              "      <td>6</td>\n",
              "      <td>0</td>\n",
              "      <td>276</td>\n",
              "      <td>0</td>\n",
              "    </tr>\n",
              "  </tbody>\n",
              "</table>\n",
              "</div>"
            ],
            "text/plain": [
              "      LotArea  OverallQual  ...  GarageArea  AboveMedianPrice\n",
              "1455     7917            6  ...         460                 1\n",
              "1456    13175            6  ...         500                 1\n",
              "1457     9042            7  ...         252                 1\n",
              "1458     9717            5  ...         240                 0\n",
              "1459     9937            5  ...         276                 0\n",
              "\n",
              "[5 rows x 11 columns]"
            ]
          },
          "metadata": {
            "tags": []
          },
          "execution_count": 5
        }
      ]
    },
    {
      "cell_type": "code",
      "metadata": {
        "colab": {
          "base_uri": "https://localhost:8080/"
        },
        "id": "28UacFLpVrwP",
        "outputId": "84096d47-4801-40b0-b401-ad65e047f919"
      },
      "source": [
        "df.shape"
      ],
      "execution_count": null,
      "outputs": [
        {
          "output_type": "execute_result",
          "data": {
            "text/plain": [
              "(1460, 11)"
            ]
          },
          "metadata": {
            "tags": []
          },
          "execution_count": 6
        }
      ]
    },
    {
      "cell_type": "code",
      "metadata": {
        "colab": {
          "base_uri": "https://localhost:8080/"
        },
        "id": "ZYxwSEm4Vsj7",
        "outputId": "3a222ebd-e160-4e4e-e207-70d074b84aa2"
      },
      "source": [
        "df.columns"
      ],
      "execution_count": null,
      "outputs": [
        {
          "output_type": "execute_result",
          "data": {
            "text/plain": [
              "Index(['LotArea', 'OverallQual', 'OverallCond', 'TotalBsmtSF', 'FullBath',\n",
              "       'HalfBath', 'BedroomAbvGr', 'TotRmsAbvGrd', 'Fireplaces', 'GarageArea',\n",
              "       'AboveMedianPrice'],\n",
              "      dtype='object')"
            ]
          },
          "metadata": {
            "tags": []
          },
          "execution_count": 7
        }
      ]
    },
    {
      "cell_type": "code",
      "metadata": {
        "colab": {
          "base_uri": "https://localhost:8080/"
        },
        "id": "gSAc6pvxVtgN",
        "outputId": "ca06b14a-65b4-4233-96a8-6848066e7cac"
      },
      "source": [
        "df.info()"
      ],
      "execution_count": null,
      "outputs": [
        {
          "output_type": "stream",
          "text": [
            "<class 'pandas.core.frame.DataFrame'>\n",
            "RangeIndex: 1460 entries, 0 to 1459\n",
            "Data columns (total 11 columns):\n",
            " #   Column            Non-Null Count  Dtype\n",
            "---  ------            --------------  -----\n",
            " 0   LotArea           1460 non-null   int64\n",
            " 1   OverallQual       1460 non-null   int64\n",
            " 2   OverallCond       1460 non-null   int64\n",
            " 3   TotalBsmtSF       1460 non-null   int64\n",
            " 4   FullBath          1460 non-null   int64\n",
            " 5   HalfBath          1460 non-null   int64\n",
            " 6   BedroomAbvGr      1460 non-null   int64\n",
            " 7   TotRmsAbvGrd      1460 non-null   int64\n",
            " 8   Fireplaces        1460 non-null   int64\n",
            " 9   GarageArea        1460 non-null   int64\n",
            " 10  AboveMedianPrice  1460 non-null   int64\n",
            "dtypes: int64(11)\n",
            "memory usage: 125.6 KB\n"
          ],
          "name": "stdout"
        }
      ]
    },
    {
      "cell_type": "markdown",
      "metadata": {
        "id": "oYb7WW7L9JGX"
      },
      "source": [
        "no nulls"
      ]
    },
    {
      "cell_type": "code",
      "metadata": {
        "colab": {
          "base_uri": "https://localhost:8080/",
          "height": 378
        },
        "id": "roLrb3deVvBZ",
        "outputId": "c038f583-6dbe-42f9-f30c-059365e35c5f"
      },
      "source": [
        "df.describe().T"
      ],
      "execution_count": null,
      "outputs": [
        {
          "output_type": "execute_result",
          "data": {
            "text/html": [
              "<div>\n",
              "<style scoped>\n",
              "    .dataframe tbody tr th:only-of-type {\n",
              "        vertical-align: middle;\n",
              "    }\n",
              "\n",
              "    .dataframe tbody tr th {\n",
              "        vertical-align: top;\n",
              "    }\n",
              "\n",
              "    .dataframe thead th {\n",
              "        text-align: right;\n",
              "    }\n",
              "</style>\n",
              "<table border=\"1\" class=\"dataframe\">\n",
              "  <thead>\n",
              "    <tr style=\"text-align: right;\">\n",
              "      <th></th>\n",
              "      <th>count</th>\n",
              "      <th>mean</th>\n",
              "      <th>std</th>\n",
              "      <th>min</th>\n",
              "      <th>25%</th>\n",
              "      <th>50%</th>\n",
              "      <th>75%</th>\n",
              "      <th>max</th>\n",
              "    </tr>\n",
              "  </thead>\n",
              "  <tbody>\n",
              "    <tr>\n",
              "      <th>LotArea</th>\n",
              "      <td>1460.0</td>\n",
              "      <td>10516.828082</td>\n",
              "      <td>9981.264932</td>\n",
              "      <td>1300.0</td>\n",
              "      <td>7553.50</td>\n",
              "      <td>9478.5</td>\n",
              "      <td>11601.50</td>\n",
              "      <td>215245.0</td>\n",
              "    </tr>\n",
              "    <tr>\n",
              "      <th>OverallQual</th>\n",
              "      <td>1460.0</td>\n",
              "      <td>6.099315</td>\n",
              "      <td>1.382997</td>\n",
              "      <td>1.0</td>\n",
              "      <td>5.00</td>\n",
              "      <td>6.0</td>\n",
              "      <td>7.00</td>\n",
              "      <td>10.0</td>\n",
              "    </tr>\n",
              "    <tr>\n",
              "      <th>OverallCond</th>\n",
              "      <td>1460.0</td>\n",
              "      <td>5.575342</td>\n",
              "      <td>1.112799</td>\n",
              "      <td>1.0</td>\n",
              "      <td>5.00</td>\n",
              "      <td>5.0</td>\n",
              "      <td>6.00</td>\n",
              "      <td>9.0</td>\n",
              "    </tr>\n",
              "    <tr>\n",
              "      <th>TotalBsmtSF</th>\n",
              "      <td>1460.0</td>\n",
              "      <td>1057.429452</td>\n",
              "      <td>438.705324</td>\n",
              "      <td>0.0</td>\n",
              "      <td>795.75</td>\n",
              "      <td>991.5</td>\n",
              "      <td>1298.25</td>\n",
              "      <td>6110.0</td>\n",
              "    </tr>\n",
              "    <tr>\n",
              "      <th>FullBath</th>\n",
              "      <td>1460.0</td>\n",
              "      <td>1.565068</td>\n",
              "      <td>0.550916</td>\n",
              "      <td>0.0</td>\n",
              "      <td>1.00</td>\n",
              "      <td>2.0</td>\n",
              "      <td>2.00</td>\n",
              "      <td>3.0</td>\n",
              "    </tr>\n",
              "    <tr>\n",
              "      <th>HalfBath</th>\n",
              "      <td>1460.0</td>\n",
              "      <td>0.382877</td>\n",
              "      <td>0.502885</td>\n",
              "      <td>0.0</td>\n",
              "      <td>0.00</td>\n",
              "      <td>0.0</td>\n",
              "      <td>1.00</td>\n",
              "      <td>2.0</td>\n",
              "    </tr>\n",
              "    <tr>\n",
              "      <th>BedroomAbvGr</th>\n",
              "      <td>1460.0</td>\n",
              "      <td>2.866438</td>\n",
              "      <td>0.815778</td>\n",
              "      <td>0.0</td>\n",
              "      <td>2.00</td>\n",
              "      <td>3.0</td>\n",
              "      <td>3.00</td>\n",
              "      <td>8.0</td>\n",
              "    </tr>\n",
              "    <tr>\n",
              "      <th>TotRmsAbvGrd</th>\n",
              "      <td>1460.0</td>\n",
              "      <td>6.517808</td>\n",
              "      <td>1.625393</td>\n",
              "      <td>2.0</td>\n",
              "      <td>5.00</td>\n",
              "      <td>6.0</td>\n",
              "      <td>7.00</td>\n",
              "      <td>14.0</td>\n",
              "    </tr>\n",
              "    <tr>\n",
              "      <th>Fireplaces</th>\n",
              "      <td>1460.0</td>\n",
              "      <td>0.613014</td>\n",
              "      <td>0.644666</td>\n",
              "      <td>0.0</td>\n",
              "      <td>0.00</td>\n",
              "      <td>1.0</td>\n",
              "      <td>1.00</td>\n",
              "      <td>3.0</td>\n",
              "    </tr>\n",
              "    <tr>\n",
              "      <th>GarageArea</th>\n",
              "      <td>1460.0</td>\n",
              "      <td>472.980137</td>\n",
              "      <td>213.804841</td>\n",
              "      <td>0.0</td>\n",
              "      <td>334.50</td>\n",
              "      <td>480.0</td>\n",
              "      <td>576.00</td>\n",
              "      <td>1418.0</td>\n",
              "    </tr>\n",
              "    <tr>\n",
              "      <th>AboveMedianPrice</th>\n",
              "      <td>1460.0</td>\n",
              "      <td>0.498630</td>\n",
              "      <td>0.500169</td>\n",
              "      <td>0.0</td>\n",
              "      <td>0.00</td>\n",
              "      <td>0.0</td>\n",
              "      <td>1.00</td>\n",
              "      <td>1.0</td>\n",
              "    </tr>\n",
              "  </tbody>\n",
              "</table>\n",
              "</div>"
            ],
            "text/plain": [
              "                   count          mean          std  ...     50%       75%       max\n",
              "LotArea           1460.0  10516.828082  9981.264932  ...  9478.5  11601.50  215245.0\n",
              "OverallQual       1460.0      6.099315     1.382997  ...     6.0      7.00      10.0\n",
              "OverallCond       1460.0      5.575342     1.112799  ...     5.0      6.00       9.0\n",
              "TotalBsmtSF       1460.0   1057.429452   438.705324  ...   991.5   1298.25    6110.0\n",
              "FullBath          1460.0      1.565068     0.550916  ...     2.0      2.00       3.0\n",
              "HalfBath          1460.0      0.382877     0.502885  ...     0.0      1.00       2.0\n",
              "BedroomAbvGr      1460.0      2.866438     0.815778  ...     3.0      3.00       8.0\n",
              "TotRmsAbvGrd      1460.0      6.517808     1.625393  ...     6.0      7.00      14.0\n",
              "Fireplaces        1460.0      0.613014     0.644666  ...     1.0      1.00       3.0\n",
              "GarageArea        1460.0    472.980137   213.804841  ...   480.0    576.00    1418.0\n",
              "AboveMedianPrice  1460.0      0.498630     0.500169  ...     0.0      1.00       1.0\n",
              "\n",
              "[11 rows x 8 columns]"
            ]
          },
          "metadata": {
            "tags": []
          },
          "execution_count": 11
        }
      ]
    },
    {
      "cell_type": "markdown",
      "metadata": {
        "id": "af3hr5_a9LDY"
      },
      "source": [
        "### separate target from features"
      ]
    },
    {
      "cell_type": "markdown",
      "metadata": {
        "id": "yWGeQAHR9K9r"
      },
      "source": [
        ""
      ]
    },
    {
      "cell_type": "code",
      "metadata": {
        "id": "a0XJ8UuNVxsP"
      },
      "source": [
        "X=df.drop('AboveMedianPrice',axis=1).values\n",
        "y=df['AboveMedianPrice'].values"
      ],
      "execution_count": null,
      "outputs": []
    },
    {
      "cell_type": "markdown",
      "metadata": {
        "id": "OjUIEfZ19OTL"
      },
      "source": [
        "### normalize"
      ]
    },
    {
      "cell_type": "code",
      "metadata": {
        "id": "--aZ1p-VV7jj"
      },
      "source": [
        "sc=preprocessing.MinMaxScaler()\n",
        "x_sc=sc.fit_transform(X)"
      ],
      "execution_count": null,
      "outputs": []
    },
    {
      "cell_type": "code",
      "metadata": {
        "colab": {
          "base_uri": "https://localhost:8080/"
        },
        "id": "0Iks6XWKWWwV",
        "outputId": "17583f9e-f90b-4afb-ef11-32d08b59d939"
      },
      "source": [
        "x_sc.shape"
      ],
      "execution_count": null,
      "outputs": [
        {
          "output_type": "execute_result",
          "data": {
            "text/plain": [
              "(1460, 10)"
            ]
          },
          "metadata": {
            "tags": []
          },
          "execution_count": 15
        }
      ]
    },
    {
      "cell_type": "code",
      "metadata": {
        "colab": {
          "base_uri": "https://localhost:8080/"
        },
        "id": "e65OFBr2WX2N",
        "outputId": "01212901-7075-46a1-dff4-7dc97a965023"
      },
      "source": [
        "x_sc[:10]"
      ],
      "execution_count": null,
      "outputs": [
        {
          "output_type": "execute_result",
          "data": {
            "text/plain": [
              "array([[0.0334198 , 0.66666667, 0.5       , 0.1400982 , 0.66666667,\n",
              "        0.5       , 0.375     , 0.5       , 0.        , 0.3864598 ],\n",
              "       [0.03879502, 0.55555556, 0.875     , 0.20654664, 0.66666667,\n",
              "        0.        , 0.375     , 0.33333333, 0.33333333, 0.32440056],\n",
              "       [0.04650728, 0.66666667, 0.5       , 0.15057283, 0.66666667,\n",
              "        0.5       , 0.375     , 0.33333333, 0.33333333, 0.42877292],\n",
              "       [0.03856131, 0.66666667, 0.5       , 0.12373159, 0.33333333,\n",
              "        0.        , 0.375     , 0.41666667, 0.33333333, 0.45275035],\n",
              "       [0.06057632, 0.77777778, 0.5       , 0.18739771, 0.66666667,\n",
              "        0.5       , 0.5       , 0.58333333, 0.33333333, 0.58956276],\n",
              "       [0.05989857, 0.44444444, 0.5       , 0.13027823, 0.33333333,\n",
              "        0.5       , 0.125     , 0.25      , 0.        , 0.33850494],\n",
              "       [0.04105728, 0.77777778, 0.5       , 0.27594108, 0.66666667,\n",
              "        0.        , 0.375     , 0.41666667, 0.33333333, 0.44851904],\n",
              "       [0.04245016, 0.66666667, 0.625     , 0.1811784 , 0.66666667,\n",
              "        0.5       , 0.375     , 0.41666667, 0.66666667, 0.34132581],\n",
              "       [0.02252915, 0.66666667, 0.5       , 0.15581015, 0.66666667,\n",
              "        0.        , 0.25      , 0.5       , 0.66666667, 0.33004231],\n",
              "       [0.02860548, 0.44444444, 0.625     , 0.16219313, 0.33333333,\n",
              "        0.        , 0.25      , 0.25      , 0.66666667, 0.14456982]])"
            ]
          },
          "metadata": {
            "tags": []
          },
          "execution_count": 16
        }
      ]
    },
    {
      "cell_type": "markdown",
      "metadata": {
        "id": "7FNn232-9VCX"
      },
      "source": [
        "### split data into train/test/val 70,15,15"
      ]
    },
    {
      "cell_type": "code",
      "metadata": {
        "id": "Bzhspa4fWZmI"
      },
      "source": [
        "X_train, X_test, Y_train, Y_test = train_test_split(x_sc, y, test_size=0.3)"
      ],
      "execution_count": null,
      "outputs": []
    },
    {
      "cell_type": "code",
      "metadata": {
        "colab": {
          "base_uri": "https://localhost:8080/"
        },
        "id": "-B0rOlvHWhc7",
        "outputId": "af514c95-5830-4f17-b879-ec75f12eaa73"
      },
      "source": [
        "X_train.shape"
      ],
      "execution_count": null,
      "outputs": [
        {
          "output_type": "execute_result",
          "data": {
            "text/plain": [
              "(1022, 10)"
            ]
          },
          "metadata": {
            "tags": []
          },
          "execution_count": 19
        }
      ]
    },
    {
      "cell_type": "code",
      "metadata": {
        "colab": {
          "base_uri": "https://localhost:8080/"
        },
        "id": "Is7t2EtVWlXQ",
        "outputId": "099e709b-575c-45f4-8b97-672302a07271"
      },
      "source": [
        "X_test.shape"
      ],
      "execution_count": null,
      "outputs": [
        {
          "output_type": "execute_result",
          "data": {
            "text/plain": [
              "(438, 10)"
            ]
          },
          "metadata": {
            "tags": []
          },
          "execution_count": 20
        }
      ]
    },
    {
      "cell_type": "code",
      "metadata": {
        "colab": {
          "base_uri": "https://localhost:8080/"
        },
        "id": "0x5R4gHSWmlg",
        "outputId": "4f4f66e1-97f1-4103-f9ee-a3da726627ed"
      },
      "source": [
        "Y_train.shape"
      ],
      "execution_count": null,
      "outputs": [
        {
          "output_type": "execute_result",
          "data": {
            "text/plain": [
              "(1022,)"
            ]
          },
          "metadata": {
            "tags": []
          },
          "execution_count": 21
        }
      ]
    },
    {
      "cell_type": "code",
      "metadata": {
        "colab": {
          "base_uri": "https://localhost:8080/"
        },
        "id": "9z06XEk9WoZi",
        "outputId": "5fc3fee0-201d-416a-a5a2-e0691a5eb6a6"
      },
      "source": [
        "Y_test.shape"
      ],
      "execution_count": null,
      "outputs": [
        {
          "output_type": "execute_result",
          "data": {
            "text/plain": [
              "(438,)"
            ]
          },
          "metadata": {
            "tags": []
          },
          "execution_count": 22
        }
      ]
    },
    {
      "cell_type": "code",
      "metadata": {
        "id": "CqKkNSTOXBwA"
      },
      "source": [
        "X_val, X_test, Y_val, Y_test = train_test_split(X_test, Y_test, test_size=0.5)"
      ],
      "execution_count": null,
      "outputs": []
    },
    {
      "cell_type": "markdown",
      "metadata": {
        "id": "JBNUf7M79a3T"
      },
      "source": [
        "## first model"
      ]
    },
    {
      "cell_type": "code",
      "metadata": {
        "id": "pM_1_Hy-Wsow"
      },
      "source": [
        "model = Sequential([\n",
        "    Dense(32, activation='relu', input_shape=(10,)),\n",
        "    Dense(32, activation='relu'),\n",
        "    Dense(1, activation='sigmoid'),\n",
        "])"
      ],
      "execution_count": null,
      "outputs": []
    },
    {
      "cell_type": "code",
      "metadata": {
        "id": "x6GPpQcVWphQ"
      },
      "source": [
        "model.compile(optimizer='sgd',\n",
        "              loss='binary_crossentropy',\n",
        "              metrics=['accuracy'])"
      ],
      "execution_count": null,
      "outputs": []
    },
    {
      "cell_type": "code",
      "metadata": {
        "colab": {
          "base_uri": "https://localhost:8080/"
        },
        "id": "lF06flqyWwH0",
        "outputId": "43b2f3b4-d5f1-481b-f30b-6a309de8689a"
      },
      "source": [
        "model.summary()"
      ],
      "execution_count": null,
      "outputs": [
        {
          "output_type": "stream",
          "text": [
            "Model: \"sequential\"\n",
            "_________________________________________________________________\n",
            "Layer (type)                 Output Shape              Param #   \n",
            "=================================================================\n",
            "dense (Dense)                (None, 32)                352       \n",
            "_________________________________________________________________\n",
            "dense_1 (Dense)              (None, 32)                1056      \n",
            "_________________________________________________________________\n",
            "dense_2 (Dense)              (None, 1)                 33        \n",
            "=================================================================\n",
            "Total params: 1,441\n",
            "Trainable params: 1,441\n",
            "Non-trainable params: 0\n",
            "_________________________________________________________________\n"
          ],
          "name": "stdout"
        }
      ]
    },
    {
      "cell_type": "code",
      "metadata": {
        "colab": {
          "base_uri": "https://localhost:8080/"
        },
        "id": "CDzvFo1LWyBp",
        "outputId": "40a03aec-f729-4c30-d2f9-8dea092726b4"
      },
      "source": [
        "history=model.fit(X_train,Y_train,batch_size=32,epochs=100,validation_data=(X_val,Y_val))"
      ],
      "execution_count": null,
      "outputs": [
        {
          "output_type": "stream",
          "text": [
            "Epoch 1/100\n",
            "32/32 [==============================] - 1s 9ms/step - loss: 0.6799 - accuracy: 0.7020 - val_loss: 0.6776 - val_accuracy: 0.7032\n",
            "Epoch 2/100\n",
            "32/32 [==============================] - 0s 3ms/step - loss: 0.6742 - accuracy: 0.7180 - val_loss: 0.6737 - val_accuracy: 0.7078\n",
            "Epoch 3/100\n",
            "32/32 [==============================] - 0s 3ms/step - loss: 0.6728 - accuracy: 0.7283 - val_loss: 0.6700 - val_accuracy: 0.7078\n",
            "Epoch 4/100\n",
            "32/32 [==============================] - 0s 3ms/step - loss: 0.6655 - accuracy: 0.7543 - val_loss: 0.6658 - val_accuracy: 0.7260\n",
            "Epoch 5/100\n",
            "32/32 [==============================] - 0s 3ms/step - loss: 0.6619 - accuracy: 0.7489 - val_loss: 0.6614 - val_accuracy: 0.7534\n",
            "Epoch 6/100\n",
            "32/32 [==============================] - 0s 3ms/step - loss: 0.6563 - accuracy: 0.7811 - val_loss: 0.6570 - val_accuracy: 0.7626\n",
            "Epoch 7/100\n",
            "32/32 [==============================] - 0s 3ms/step - loss: 0.6512 - accuracy: 0.7873 - val_loss: 0.6522 - val_accuracy: 0.7671\n",
            "Epoch 8/100\n",
            "32/32 [==============================] - 0s 3ms/step - loss: 0.6484 - accuracy: 0.8104 - val_loss: 0.6473 - val_accuracy: 0.7671\n",
            "Epoch 9/100\n",
            "32/32 [==============================] - 0s 3ms/step - loss: 0.6453 - accuracy: 0.8072 - val_loss: 0.6421 - val_accuracy: 0.7717\n",
            "Epoch 10/100\n",
            "32/32 [==============================] - 0s 3ms/step - loss: 0.6371 - accuracy: 0.8111 - val_loss: 0.6363 - val_accuracy: 0.7854\n",
            "Epoch 11/100\n",
            "32/32 [==============================] - 0s 3ms/step - loss: 0.6336 - accuracy: 0.8099 - val_loss: 0.6300 - val_accuracy: 0.8128\n",
            "Epoch 12/100\n",
            "32/32 [==============================] - 0s 3ms/step - loss: 0.6226 - accuracy: 0.8385 - val_loss: 0.6231 - val_accuracy: 0.8128\n",
            "Epoch 13/100\n",
            "32/32 [==============================] - 0s 3ms/step - loss: 0.6172 - accuracy: 0.8414 - val_loss: 0.6166 - val_accuracy: 0.8174\n",
            "Epoch 14/100\n",
            "32/32 [==============================] - 0s 3ms/step - loss: 0.6063 - accuracy: 0.8455 - val_loss: 0.6092 - val_accuracy: 0.8219\n",
            "Epoch 15/100\n",
            "32/32 [==============================] - 0s 3ms/step - loss: 0.6056 - accuracy: 0.8472 - val_loss: 0.6021 - val_accuracy: 0.8219\n",
            "Epoch 16/100\n",
            "32/32 [==============================] - 0s 3ms/step - loss: 0.5971 - accuracy: 0.8368 - val_loss: 0.5946 - val_accuracy: 0.8219\n",
            "Epoch 17/100\n",
            "32/32 [==============================] - 0s 3ms/step - loss: 0.5890 - accuracy: 0.8401 - val_loss: 0.5865 - val_accuracy: 0.8219\n",
            "Epoch 18/100\n",
            "32/32 [==============================] - 0s 3ms/step - loss: 0.5811 - accuracy: 0.8515 - val_loss: 0.5784 - val_accuracy: 0.8219\n",
            "Epoch 19/100\n",
            "32/32 [==============================] - 0s 3ms/step - loss: 0.5711 - accuracy: 0.8580 - val_loss: 0.5703 - val_accuracy: 0.8219\n",
            "Epoch 20/100\n",
            "32/32 [==============================] - 0s 2ms/step - loss: 0.5581 - accuracy: 0.8548 - val_loss: 0.5608 - val_accuracy: 0.8311\n",
            "Epoch 21/100\n",
            "32/32 [==============================] - 0s 2ms/step - loss: 0.5530 - accuracy: 0.8711 - val_loss: 0.5513 - val_accuracy: 0.8356\n",
            "Epoch 22/100\n",
            "32/32 [==============================] - 0s 2ms/step - loss: 0.5516 - accuracy: 0.8463 - val_loss: 0.5420 - val_accuracy: 0.8402\n",
            "Epoch 23/100\n",
            "32/32 [==============================] - 0s 2ms/step - loss: 0.5296 - accuracy: 0.8693 - val_loss: 0.5321 - val_accuracy: 0.8402\n",
            "Epoch 24/100\n",
            "32/32 [==============================] - 0s 2ms/step - loss: 0.5245 - accuracy: 0.8667 - val_loss: 0.5221 - val_accuracy: 0.8447\n",
            "Epoch 25/100\n",
            "32/32 [==============================] - 0s 2ms/step - loss: 0.5060 - accuracy: 0.8829 - val_loss: 0.5121 - val_accuracy: 0.8447\n",
            "Epoch 26/100\n",
            "32/32 [==============================] - 0s 2ms/step - loss: 0.4932 - accuracy: 0.8882 - val_loss: 0.5029 - val_accuracy: 0.8447\n",
            "Epoch 27/100\n",
            "32/32 [==============================] - 0s 2ms/step - loss: 0.4948 - accuracy: 0.8716 - val_loss: 0.4926 - val_accuracy: 0.8493\n",
            "Epoch 28/100\n",
            "32/32 [==============================] - 0s 2ms/step - loss: 0.4873 - accuracy: 0.8659 - val_loss: 0.4828 - val_accuracy: 0.8539\n",
            "Epoch 29/100\n",
            "32/32 [==============================] - 0s 2ms/step - loss: 0.4717 - accuracy: 0.8697 - val_loss: 0.4739 - val_accuracy: 0.8539\n",
            "Epoch 30/100\n",
            "32/32 [==============================] - 0s 2ms/step - loss: 0.4622 - accuracy: 0.8738 - val_loss: 0.4635 - val_accuracy: 0.8493\n",
            "Epoch 31/100\n",
            "32/32 [==============================] - 0s 3ms/step - loss: 0.4531 - accuracy: 0.8885 - val_loss: 0.4557 - val_accuracy: 0.8493\n",
            "Epoch 32/100\n",
            "32/32 [==============================] - 0s 3ms/step - loss: 0.4414 - accuracy: 0.8789 - val_loss: 0.4456 - val_accuracy: 0.8493\n",
            "Epoch 33/100\n",
            "32/32 [==============================] - 0s 2ms/step - loss: 0.4399 - accuracy: 0.8677 - val_loss: 0.4376 - val_accuracy: 0.8539\n",
            "Epoch 34/100\n",
            "32/32 [==============================] - 0s 2ms/step - loss: 0.4151 - accuracy: 0.8875 - val_loss: 0.4284 - val_accuracy: 0.8539\n",
            "Epoch 35/100\n",
            "32/32 [==============================] - 0s 2ms/step - loss: 0.4309 - accuracy: 0.8705 - val_loss: 0.4211 - val_accuracy: 0.8539\n",
            "Epoch 36/100\n",
            "32/32 [==============================] - 0s 2ms/step - loss: 0.4082 - accuracy: 0.8824 - val_loss: 0.4137 - val_accuracy: 0.8539\n",
            "Epoch 37/100\n",
            "32/32 [==============================] - 0s 2ms/step - loss: 0.3993 - accuracy: 0.8821 - val_loss: 0.4070 - val_accuracy: 0.8539\n",
            "Epoch 38/100\n",
            "32/32 [==============================] - 0s 3ms/step - loss: 0.3751 - accuracy: 0.8905 - val_loss: 0.3997 - val_accuracy: 0.8539\n",
            "Epoch 39/100\n",
            "32/32 [==============================] - 0s 2ms/step - loss: 0.3862 - accuracy: 0.8810 - val_loss: 0.3950 - val_accuracy: 0.8584\n",
            "Epoch 40/100\n",
            "32/32 [==============================] - 0s 2ms/step - loss: 0.3822 - accuracy: 0.8822 - val_loss: 0.3886 - val_accuracy: 0.8539\n",
            "Epoch 41/100\n",
            "32/32 [==============================] - 0s 3ms/step - loss: 0.3727 - accuracy: 0.8887 - val_loss: 0.3837 - val_accuracy: 0.8539\n",
            "Epoch 42/100\n",
            "32/32 [==============================] - 0s 2ms/step - loss: 0.3754 - accuracy: 0.8878 - val_loss: 0.3782 - val_accuracy: 0.8539\n",
            "Epoch 43/100\n",
            "32/32 [==============================] - 0s 3ms/step - loss: 0.3716 - accuracy: 0.8780 - val_loss: 0.3736 - val_accuracy: 0.8584\n",
            "Epoch 44/100\n",
            "32/32 [==============================] - 0s 3ms/step - loss: 0.3488 - accuracy: 0.8794 - val_loss: 0.3705 - val_accuracy: 0.8539\n",
            "Epoch 45/100\n",
            "32/32 [==============================] - 0s 3ms/step - loss: 0.3636 - accuracy: 0.8786 - val_loss: 0.3666 - val_accuracy: 0.8539\n",
            "Epoch 46/100\n",
            "32/32 [==============================] - 0s 3ms/step - loss: 0.3332 - accuracy: 0.8874 - val_loss: 0.3627 - val_accuracy: 0.8584\n",
            "Epoch 47/100\n",
            "32/32 [==============================] - 0s 3ms/step - loss: 0.3559 - accuracy: 0.8759 - val_loss: 0.3603 - val_accuracy: 0.8630\n",
            "Epoch 48/100\n",
            "32/32 [==============================] - 0s 3ms/step - loss: 0.3414 - accuracy: 0.8760 - val_loss: 0.3568 - val_accuracy: 0.8584\n",
            "Epoch 49/100\n",
            "32/32 [==============================] - 0s 3ms/step - loss: 0.3456 - accuracy: 0.8831 - val_loss: 0.3541 - val_accuracy: 0.8676\n",
            "Epoch 50/100\n",
            "32/32 [==============================] - 0s 3ms/step - loss: 0.3462 - accuracy: 0.8837 - val_loss: 0.3510 - val_accuracy: 0.8630\n",
            "Epoch 51/100\n",
            "32/32 [==============================] - 0s 3ms/step - loss: 0.3280 - accuracy: 0.8873 - val_loss: 0.3479 - val_accuracy: 0.8630\n",
            "Epoch 52/100\n",
            "32/32 [==============================] - 0s 3ms/step - loss: 0.3124 - accuracy: 0.9032 - val_loss: 0.3459 - val_accuracy: 0.8630\n",
            "Epoch 53/100\n",
            "32/32 [==============================] - 0s 3ms/step - loss: 0.3065 - accuracy: 0.8959 - val_loss: 0.3452 - val_accuracy: 0.8676\n",
            "Epoch 54/100\n",
            "32/32 [==============================] - 0s 3ms/step - loss: 0.3073 - accuracy: 0.8972 - val_loss: 0.3416 - val_accuracy: 0.8630\n",
            "Epoch 55/100\n",
            "32/32 [==============================] - 0s 2ms/step - loss: 0.3117 - accuracy: 0.8841 - val_loss: 0.3395 - val_accuracy: 0.8630\n",
            "Epoch 56/100\n",
            "32/32 [==============================] - 0s 2ms/step - loss: 0.3273 - accuracy: 0.8778 - val_loss: 0.3393 - val_accuracy: 0.8676\n",
            "Epoch 57/100\n",
            "32/32 [==============================] - 0s 2ms/step - loss: 0.3074 - accuracy: 0.8962 - val_loss: 0.3359 - val_accuracy: 0.8630\n",
            "Epoch 58/100\n",
            "32/32 [==============================] - 0s 3ms/step - loss: 0.3189 - accuracy: 0.8785 - val_loss: 0.3348 - val_accuracy: 0.8630\n",
            "Epoch 59/100\n",
            "32/32 [==============================] - 0s 2ms/step - loss: 0.3157 - accuracy: 0.8854 - val_loss: 0.3334 - val_accuracy: 0.8630\n",
            "Epoch 60/100\n",
            "32/32 [==============================] - 0s 2ms/step - loss: 0.3262 - accuracy: 0.8692 - val_loss: 0.3336 - val_accuracy: 0.8676\n",
            "Epoch 61/100\n",
            "32/32 [==============================] - 0s 2ms/step - loss: 0.3236 - accuracy: 0.8752 - val_loss: 0.3354 - val_accuracy: 0.8630\n",
            "Epoch 62/100\n",
            "32/32 [==============================] - 0s 2ms/step - loss: 0.3152 - accuracy: 0.8776 - val_loss: 0.3307 - val_accuracy: 0.8676\n",
            "Epoch 63/100\n",
            "32/32 [==============================] - 0s 2ms/step - loss: 0.3006 - accuracy: 0.8950 - val_loss: 0.3306 - val_accuracy: 0.8630\n",
            "Epoch 64/100\n",
            "32/32 [==============================] - 0s 2ms/step - loss: 0.3039 - accuracy: 0.8823 - val_loss: 0.3279 - val_accuracy: 0.8676\n",
            "Epoch 65/100\n",
            "32/32 [==============================] - 0s 2ms/step - loss: 0.3231 - accuracy: 0.8811 - val_loss: 0.3298 - val_accuracy: 0.8630\n",
            "Epoch 66/100\n",
            "32/32 [==============================] - 0s 3ms/step - loss: 0.3097 - accuracy: 0.8728 - val_loss: 0.3286 - val_accuracy: 0.8630\n",
            "Epoch 67/100\n",
            "32/32 [==============================] - 0s 3ms/step - loss: 0.3239 - accuracy: 0.8708 - val_loss: 0.3250 - val_accuracy: 0.8676\n",
            "Epoch 68/100\n",
            "32/32 [==============================] - 0s 3ms/step - loss: 0.3081 - accuracy: 0.8892 - val_loss: 0.3284 - val_accuracy: 0.8630\n",
            "Epoch 69/100\n",
            "32/32 [==============================] - 0s 3ms/step - loss: 0.2793 - accuracy: 0.8959 - val_loss: 0.3235 - val_accuracy: 0.8630\n",
            "Epoch 70/100\n",
            "32/32 [==============================] - 0s 3ms/step - loss: 0.3140 - accuracy: 0.8769 - val_loss: 0.3246 - val_accuracy: 0.8630\n",
            "Epoch 71/100\n",
            "32/32 [==============================] - 0s 3ms/step - loss: 0.2813 - accuracy: 0.9038 - val_loss: 0.3212 - val_accuracy: 0.8676\n",
            "Epoch 72/100\n",
            "32/32 [==============================] - 0s 3ms/step - loss: 0.3135 - accuracy: 0.8790 - val_loss: 0.3204 - val_accuracy: 0.8676\n",
            "Epoch 73/100\n",
            "32/32 [==============================] - 0s 3ms/step - loss: 0.3083 - accuracy: 0.8713 - val_loss: 0.3213 - val_accuracy: 0.8630\n",
            "Epoch 74/100\n",
            "32/32 [==============================] - 0s 3ms/step - loss: 0.2989 - accuracy: 0.8891 - val_loss: 0.3203 - val_accuracy: 0.8630\n",
            "Epoch 75/100\n",
            "32/32 [==============================] - 0s 3ms/step - loss: 0.3042 - accuracy: 0.8889 - val_loss: 0.3211 - val_accuracy: 0.8630\n",
            "Epoch 76/100\n",
            "32/32 [==============================] - 0s 3ms/step - loss: 0.2982 - accuracy: 0.8862 - val_loss: 0.3211 - val_accuracy: 0.8630\n",
            "Epoch 77/100\n",
            "32/32 [==============================] - 0s 3ms/step - loss: 0.2553 - accuracy: 0.9072 - val_loss: 0.3183 - val_accuracy: 0.8630\n",
            "Epoch 78/100\n",
            "32/32 [==============================] - 0s 3ms/step - loss: 0.3031 - accuracy: 0.8856 - val_loss: 0.3165 - val_accuracy: 0.8584\n",
            "Epoch 79/100\n",
            "32/32 [==============================] - 0s 2ms/step - loss: 0.3014 - accuracy: 0.8906 - val_loss: 0.3169 - val_accuracy: 0.8630\n",
            "Epoch 80/100\n",
            "32/32 [==============================] - 0s 3ms/step - loss: 0.3014 - accuracy: 0.8961 - val_loss: 0.3158 - val_accuracy: 0.8630\n",
            "Epoch 81/100\n",
            "32/32 [==============================] - 0s 3ms/step - loss: 0.2803 - accuracy: 0.8987 - val_loss: 0.3152 - val_accuracy: 0.8584\n",
            "Epoch 82/100\n",
            "32/32 [==============================] - 0s 2ms/step - loss: 0.2911 - accuracy: 0.8926 - val_loss: 0.3161 - val_accuracy: 0.8630\n",
            "Epoch 83/100\n",
            "32/32 [==============================] - 0s 3ms/step - loss: 0.2822 - accuracy: 0.8983 - val_loss: 0.3140 - val_accuracy: 0.8584\n",
            "Epoch 84/100\n",
            "32/32 [==============================] - 0s 2ms/step - loss: 0.2829 - accuracy: 0.9035 - val_loss: 0.3140 - val_accuracy: 0.8584\n",
            "Epoch 85/100\n",
            "32/32 [==============================] - 0s 2ms/step - loss: 0.2952 - accuracy: 0.8899 - val_loss: 0.3144 - val_accuracy: 0.8630\n",
            "Epoch 86/100\n",
            "32/32 [==============================] - 0s 3ms/step - loss: 0.2714 - accuracy: 0.9034 - val_loss: 0.3160 - val_accuracy: 0.8630\n",
            "Epoch 87/100\n",
            "32/32 [==============================] - 0s 3ms/step - loss: 0.2688 - accuracy: 0.9055 - val_loss: 0.3128 - val_accuracy: 0.8584\n",
            "Epoch 88/100\n",
            "32/32 [==============================] - 0s 3ms/step - loss: 0.2788 - accuracy: 0.9057 - val_loss: 0.3119 - val_accuracy: 0.8584\n",
            "Epoch 89/100\n",
            "32/32 [==============================] - 0s 3ms/step - loss: 0.2941 - accuracy: 0.8930 - val_loss: 0.3116 - val_accuracy: 0.8584\n",
            "Epoch 90/100\n",
            "32/32 [==============================] - 0s 3ms/step - loss: 0.2861 - accuracy: 0.8944 - val_loss: 0.3139 - val_accuracy: 0.8630\n",
            "Epoch 91/100\n",
            "32/32 [==============================] - 0s 3ms/step - loss: 0.2648 - accuracy: 0.9065 - val_loss: 0.3107 - val_accuracy: 0.8584\n",
            "Epoch 92/100\n",
            "32/32 [==============================] - 0s 3ms/step - loss: 0.2669 - accuracy: 0.9003 - val_loss: 0.3105 - val_accuracy: 0.8584\n",
            "Epoch 93/100\n",
            "32/32 [==============================] - 0s 3ms/step - loss: 0.3088 - accuracy: 0.8721 - val_loss: 0.3100 - val_accuracy: 0.8584\n",
            "Epoch 94/100\n",
            "32/32 [==============================] - 0s 3ms/step - loss: 0.2830 - accuracy: 0.8984 - val_loss: 0.3088 - val_accuracy: 0.8630\n",
            "Epoch 95/100\n",
            "32/32 [==============================] - 0s 3ms/step - loss: 0.2459 - accuracy: 0.9119 - val_loss: 0.3079 - val_accuracy: 0.8721\n",
            "Epoch 96/100\n",
            "32/32 [==============================] - 0s 3ms/step - loss: 0.2633 - accuracy: 0.8974 - val_loss: 0.3090 - val_accuracy: 0.8584\n",
            "Epoch 97/100\n",
            "32/32 [==============================] - 0s 3ms/step - loss: 0.2727 - accuracy: 0.8969 - val_loss: 0.3078 - val_accuracy: 0.8721\n",
            "Epoch 98/100\n",
            "32/32 [==============================] - 0s 3ms/step - loss: 0.3098 - accuracy: 0.8784 - val_loss: 0.3115 - val_accuracy: 0.8584\n",
            "Epoch 99/100\n",
            "32/32 [==============================] - 0s 3ms/step - loss: 0.3019 - accuracy: 0.8882 - val_loss: 0.3115 - val_accuracy: 0.8584\n",
            "Epoch 100/100\n",
            "32/32 [==============================] - 0s 3ms/step - loss: 0.2776 - accuracy: 0.8845 - val_loss: 0.3071 - val_accuracy: 0.8676\n"
          ],
          "name": "stdout"
        }
      ]
    },
    {
      "cell_type": "code",
      "metadata": {
        "colab": {
          "base_uri": "https://localhost:8080/"
        },
        "id": "FJWstDwXXJNR",
        "outputId": "76ab2b11-5f73-433f-cc72-fc671a56e12f"
      },
      "source": [
        "model.evaluate(X_test,Y_test)"
      ],
      "execution_count": null,
      "outputs": [
        {
          "output_type": "stream",
          "text": [
            "7/7 [==============================] - 0s 2ms/step - loss: 0.2682 - accuracy: 0.8904\n"
          ],
          "name": "stdout"
        },
        {
          "output_type": "execute_result",
          "data": {
            "text/plain": [
              "[0.2682291269302368, 0.8904109597206116]"
            ]
          },
          "metadata": {
            "tags": []
          },
          "execution_count": 28
        }
      ]
    },
    {
      "cell_type": "code",
      "metadata": {
        "colab": {
          "base_uri": "https://localhost:8080/",
          "height": 295
        },
        "id": "YqTFrzwBXQn4",
        "outputId": "f8d7c729-2926-47cf-b8a8-33884159fdf0"
      },
      "source": [
        "plt.plot(history.history['loss'])\n",
        "plt.plot(history.history['val_loss'])\n",
        "plt.title('Model loss')\n",
        "plt.ylabel('Loss')\n",
        "plt.xlabel('Epoch')\n",
        "plt.legend(['Train', 'Val'], loc='upper right');"
      ],
      "execution_count": null,
      "outputs": [
        {
          "output_type": "display_data",
          "data": {
            "image/png": "[encoded data removed]",
            "text/plain": [
              "<Figure size 432x288 with 1 Axes>"
            ]
          },
          "metadata": {
            "tags": [],
            "needs_background": "light"
          }
        }
      ]
    },
    {
      "cell_type": "code",
      "metadata": {
        "colab": {
          "base_uri": "https://localhost:8080/",
          "height": 295
        },
        "id": "8sVQ4kgLXXzN",
        "outputId": "a77adcc5-4e0f-4f2f-cae8-160b0723b9d4"
      },
      "source": [
        "plt.plot(history.history['accuracy'])\n",
        "plt.plot(history.history['val_accuracy'])\n",
        "plt.title('Model accuracy')\n",
        "plt.ylabel('Accuracy')\n",
        "plt.xlabel('Epoch')\n",
        "plt.legend(['Train', 'Val'], loc='lower right');"
      ],
      "execution_count": null,
      "outputs": [
        {
          "output_type": "display_data",
          "data": {
            "image/png": "[encoded data removed]",
            "text/plain": [
              "<Figure size 432x288 with 1 Axes>"
            ]
          },
          "metadata": {
            "tags": [],
            "needs_background": "light"
          }
        }
      ]
    },
    {
      "cell_type": "markdown",
      "metadata": {
        "id": "CqgrNO-c9dk7"
      },
      "source": [
        "### 2nd model, adding more layers"
      ]
    },
    {
      "cell_type": "code",
      "metadata": {
        "colab": {
          "base_uri": "https://localhost:8080/"
        },
        "id": "xWvZgxqVXuT-",
        "outputId": "268ac075-da8c-4fe9-b116-782ae30e7bda"
      },
      "source": [
        "model_2 = Sequential([\n",
        "    Dense(1000, activation='relu', input_shape=(10,)),\n",
        "    Dense(1000, activation='relu'),\n",
        "    Dense(1000, activation='relu'),\n",
        "    Dense(1000, activation='relu'),\n",
        "    Dense(1, activation='sigmoid'),\n",
        "])\n",
        "model_2.compile(optimizer='adam',\n",
        "              loss='binary_crossentropy',\n",
        "              metrics=['accuracy'])\n",
        "model_2.summary()"
      ],
      "execution_count": null,
      "outputs": [
        {
          "output_type": "stream",
          "text": [
            "Model: \"sequential_1\"\n",
            "_________________________________________________________________\n",
            "Layer (type)                 Output Shape              Param #   \n",
            "=================================================================\n",
            "dense_3 (Dense)              (None, 1000)              11000     \n",
            "_________________________________________________________________\n",
            "dense_4 (Dense)              (None, 1000)              1001000   \n",
            "_________________________________________________________________\n",
            "dense_5 (Dense)              (None, 1000)              1001000   \n",
            "_________________________________________________________________\n",
            "dense_6 (Dense)              (None, 1000)              1001000   \n",
            "_________________________________________________________________\n",
            "dense_7 (Dense)              (None, 1)                 1001      \n",
            "=================================================================\n",
            "Total params: 3,015,001\n",
            "Trainable params: 3,015,001\n",
            "Non-trainable params: 0\n",
            "_________________________________________________________________\n"
          ],
          "name": "stdout"
        }
      ]
    },
    {
      "cell_type": "code",
      "metadata": {
        "colab": {
          "base_uri": "https://localhost:8080/"
        },
        "id": "zHNvDulvX-Bo",
        "outputId": "54509b55-ad30-4e59-f8de-90b615176241"
      },
      "source": [
        "hist_2 = model_2.fit(X_train, Y_train,\n",
        "          batch_size=32, epochs=100,\n",
        "          validation_data=(X_val, Y_val))"
      ],
      "execution_count": null,
      "outputs": [
        {
          "output_type": "stream",
          "text": [
            "Epoch 1/100\n",
            "32/32 [==============================] - 2s 44ms/step - loss: 0.5713 - accuracy: 0.7030 - val_loss: 0.3767 - val_accuracy: 0.8402\n",
            "Epoch 2/100\n",
            "32/32 [==============================] - 1s 35ms/step - loss: 0.3854 - accuracy: 0.8557 - val_loss: 0.3472 - val_accuracy: 0.8630\n",
            "Epoch 3/100\n",
            "32/32 [==============================] - 1s 36ms/step - loss: 0.3262 - accuracy: 0.8691 - val_loss: 0.3170 - val_accuracy: 0.8584\n",
            "Epoch 4/100\n",
            "32/32 [==============================] - 1s 35ms/step - loss: 0.2489 - accuracy: 0.8967 - val_loss: 0.3142 - val_accuracy: 0.8767\n",
            "Epoch 5/100\n",
            "32/32 [==============================] - 1s 35ms/step - loss: 0.2748 - accuracy: 0.8882 - val_loss: 0.3095 - val_accuracy: 0.8904\n",
            "Epoch 6/100\n",
            "32/32 [==============================] - 1s 35ms/step - loss: 0.2733 - accuracy: 0.8991 - val_loss: 0.2887 - val_accuracy: 0.8858\n",
            "Epoch 7/100\n",
            "32/32 [==============================] - 1s 35ms/step - loss: 0.2675 - accuracy: 0.8794 - val_loss: 0.2985 - val_accuracy: 0.9087\n",
            "Epoch 8/100\n",
            "32/32 [==============================] - 1s 40ms/step - loss: 0.2832 - accuracy: 0.8862 - val_loss: 0.3963 - val_accuracy: 0.8767\n",
            "Epoch 9/100\n",
            "32/32 [==============================] - 1s 37ms/step - loss: 0.2642 - accuracy: 0.8999 - val_loss: 0.3640 - val_accuracy: 0.8813\n",
            "Epoch 10/100\n",
            "32/32 [==============================] - 1s 35ms/step - loss: 0.2464 - accuracy: 0.8821 - val_loss: 0.2891 - val_accuracy: 0.9269\n",
            "Epoch 11/100\n",
            "32/32 [==============================] - 1s 35ms/step - loss: 0.2273 - accuracy: 0.9034 - val_loss: 0.3582 - val_accuracy: 0.8813\n",
            "Epoch 12/100\n",
            "32/32 [==============================] - 1s 45ms/step - loss: 0.2214 - accuracy: 0.9162 - val_loss: 0.3369 - val_accuracy: 0.8767\n",
            "Epoch 13/100\n",
            "32/32 [==============================] - 1s 39ms/step - loss: 0.2203 - accuracy: 0.9065 - val_loss: 0.2891 - val_accuracy: 0.9178\n",
            "Epoch 14/100\n",
            "32/32 [==============================] - 1s 35ms/step - loss: 0.2624 - accuracy: 0.8930 - val_loss: 0.3259 - val_accuracy: 0.8858\n",
            "Epoch 15/100\n",
            "32/32 [==============================] - 1s 36ms/step - loss: 0.2084 - accuracy: 0.9092 - val_loss: 0.4134 - val_accuracy: 0.8721\n",
            "Epoch 16/100\n",
            "32/32 [==============================] - 1s 36ms/step - loss: 0.2552 - accuracy: 0.8898 - val_loss: 0.3439 - val_accuracy: 0.8767\n",
            "Epoch 17/100\n",
            "32/32 [==============================] - 1s 35ms/step - loss: 0.2038 - accuracy: 0.9200 - val_loss: 0.3230 - val_accuracy: 0.8950\n",
            "Epoch 18/100\n",
            "32/32 [==============================] - 1s 35ms/step - loss: 0.2294 - accuracy: 0.9124 - val_loss: 0.3287 - val_accuracy: 0.9041\n",
            "Epoch 19/100\n",
            "32/32 [==============================] - 1s 35ms/step - loss: 0.2067 - accuracy: 0.9189 - val_loss: 0.3178 - val_accuracy: 0.9041\n",
            "Epoch 20/100\n",
            "32/32 [==============================] - 1s 35ms/step - loss: 0.1913 - accuracy: 0.9251 - val_loss: 0.4077 - val_accuracy: 0.8813\n",
            "Epoch 21/100\n",
            "32/32 [==============================] - 1s 36ms/step - loss: 0.1967 - accuracy: 0.9038 - val_loss: 0.3170 - val_accuracy: 0.9178\n",
            "Epoch 22/100\n",
            "32/32 [==============================] - 1s 41ms/step - loss: 0.1738 - accuracy: 0.9258 - val_loss: 0.3301 - val_accuracy: 0.9269\n",
            "Epoch 23/100\n",
            "32/32 [==============================] - 1s 37ms/step - loss: 0.2165 - accuracy: 0.9178 - val_loss: 0.3183 - val_accuracy: 0.8950\n",
            "Epoch 24/100\n",
            "32/32 [==============================] - 1s 35ms/step - loss: 0.2057 - accuracy: 0.9164 - val_loss: 0.3557 - val_accuracy: 0.8995\n",
            "Epoch 25/100\n",
            "32/32 [==============================] - 1s 37ms/step - loss: 0.2072 - accuracy: 0.9191 - val_loss: 0.3410 - val_accuracy: 0.9087\n",
            "Epoch 26/100\n",
            "32/32 [==============================] - 1s 45ms/step - loss: 0.1768 - accuracy: 0.9318 - val_loss: 0.3828 - val_accuracy: 0.8995\n",
            "Epoch 27/100\n",
            "32/32 [==============================] - 1s 37ms/step - loss: 0.1887 - accuracy: 0.9140 - val_loss: 0.3884 - val_accuracy: 0.9041\n",
            "Epoch 28/100\n",
            "32/32 [==============================] - 1s 35ms/step - loss: 0.2367 - accuracy: 0.9049 - val_loss: 0.3354 - val_accuracy: 0.9178\n",
            "Epoch 29/100\n",
            "32/32 [==============================] - 1s 45ms/step - loss: 0.1958 - accuracy: 0.9148 - val_loss: 0.3332 - val_accuracy: 0.8950\n",
            "Epoch 30/100\n",
            "32/32 [==============================] - 1s 41ms/step - loss: 0.1848 - accuracy: 0.9330 - val_loss: 0.3435 - val_accuracy: 0.8904\n",
            "Epoch 31/100\n",
            "32/32 [==============================] - 1s 36ms/step - loss: 0.2037 - accuracy: 0.9168 - val_loss: 0.3645 - val_accuracy: 0.8813\n",
            "Epoch 32/100\n",
            "32/32 [==============================] - 1s 36ms/step - loss: 0.1868 - accuracy: 0.9283 - val_loss: 0.3126 - val_accuracy: 0.9224\n",
            "Epoch 33/100\n",
            "32/32 [==============================] - 1s 36ms/step - loss: 0.1929 - accuracy: 0.9268 - val_loss: 0.3479 - val_accuracy: 0.8950\n",
            "Epoch 34/100\n",
            "32/32 [==============================] - 1s 36ms/step - loss: 0.1989 - accuracy: 0.9103 - val_loss: 0.3731 - val_accuracy: 0.8995\n",
            "Epoch 35/100\n",
            "32/32 [==============================] - 1s 41ms/step - loss: 0.2014 - accuracy: 0.9265 - val_loss: 0.3894 - val_accuracy: 0.9087\n",
            "Epoch 36/100\n",
            "32/32 [==============================] - 1s 40ms/step - loss: 0.1748 - accuracy: 0.9288 - val_loss: 0.3326 - val_accuracy: 0.9132\n",
            "Epoch 37/100\n",
            "32/32 [==============================] - 2s 48ms/step - loss: 0.2031 - accuracy: 0.9017 - val_loss: 0.3445 - val_accuracy: 0.8904\n",
            "Epoch 38/100\n",
            "32/32 [==============================] - 1s 39ms/step - loss: 0.1698 - accuracy: 0.9261 - val_loss: 0.3433 - val_accuracy: 0.9087\n",
            "Epoch 39/100\n",
            "32/32 [==============================] - 1s 37ms/step - loss: 0.1708 - accuracy: 0.9330 - val_loss: 0.3605 - val_accuracy: 0.8813\n",
            "Epoch 40/100\n",
            "32/32 [==============================] - 1s 42ms/step - loss: 0.1666 - accuracy: 0.9263 - val_loss: 0.3488 - val_accuracy: 0.8904\n",
            "Epoch 41/100\n",
            "32/32 [==============================] - 1s 44ms/step - loss: 0.1715 - accuracy: 0.9343 - val_loss: 0.3332 - val_accuracy: 0.9178\n",
            "Epoch 42/100\n",
            "32/32 [==============================] - 1s 43ms/step - loss: 0.1672 - accuracy: 0.9279 - val_loss: 0.4225 - val_accuracy: 0.8767\n",
            "Epoch 43/100\n",
            "32/32 [==============================] - 1s 43ms/step - loss: 0.1878 - accuracy: 0.9192 - val_loss: 0.3683 - val_accuracy: 0.8995\n",
            "Epoch 44/100\n",
            "32/32 [==============================] - 1s 36ms/step - loss: 0.1599 - accuracy: 0.9348 - val_loss: 0.4026 - val_accuracy: 0.8858\n",
            "Epoch 45/100\n",
            "32/32 [==============================] - 1s 45ms/step - loss: 0.1927 - accuracy: 0.9214 - val_loss: 0.4291 - val_accuracy: 0.8904\n",
            "Epoch 46/100\n",
            "32/32 [==============================] - 1s 43ms/step - loss: 0.1523 - accuracy: 0.9355 - val_loss: 0.3904 - val_accuracy: 0.8950\n",
            "Epoch 47/100\n",
            "32/32 [==============================] - 1s 43ms/step - loss: 0.1871 - accuracy: 0.9218 - val_loss: 0.3373 - val_accuracy: 0.9041\n",
            "Epoch 48/100\n",
            "32/32 [==============================] - 1s 36ms/step - loss: 0.1702 - accuracy: 0.9320 - val_loss: 0.3754 - val_accuracy: 0.8995\n",
            "Epoch 49/100\n",
            "32/32 [==============================] - 1s 36ms/step - loss: 0.1874 - accuracy: 0.9204 - val_loss: 0.3938 - val_accuracy: 0.9041\n",
            "Epoch 50/100\n",
            "32/32 [==============================] - 1s 36ms/step - loss: 0.1531 - accuracy: 0.9412 - val_loss: 0.3874 - val_accuracy: 0.9041\n",
            "Epoch 51/100\n",
            "32/32 [==============================] - 1s 36ms/step - loss: 0.1646 - accuracy: 0.9391 - val_loss: 0.3826 - val_accuracy: 0.9132\n",
            "Epoch 52/100\n",
            "32/32 [==============================] - 1s 35ms/step - loss: 0.1663 - accuracy: 0.9234 - val_loss: 0.4317 - val_accuracy: 0.8995\n",
            "Epoch 53/100\n",
            "32/32 [==============================] - 1s 35ms/step - loss: 0.1564 - accuracy: 0.9282 - val_loss: 0.3787 - val_accuracy: 0.8950\n",
            "Epoch 54/100\n",
            "32/32 [==============================] - 1s 36ms/step - loss: 0.1402 - accuracy: 0.9469 - val_loss: 0.4350 - val_accuracy: 0.9087\n",
            "Epoch 55/100\n",
            "32/32 [==============================] - 1s 36ms/step - loss: 0.1344 - accuracy: 0.9374 - val_loss: 0.4472 - val_accuracy: 0.9041\n",
            "Epoch 56/100\n",
            "32/32 [==============================] - 1s 36ms/step - loss: 0.1641 - accuracy: 0.9276 - val_loss: 0.4421 - val_accuracy: 0.9132\n",
            "Epoch 57/100\n",
            "32/32 [==============================] - 1s 36ms/step - loss: 0.1967 - accuracy: 0.9300 - val_loss: 0.4088 - val_accuracy: 0.9041\n",
            "Epoch 58/100\n",
            "32/32 [==============================] - 1s 35ms/step - loss: 0.1531 - accuracy: 0.9423 - val_loss: 0.3879 - val_accuracy: 0.8995\n",
            "Epoch 59/100\n",
            "32/32 [==============================] - 1s 35ms/step - loss: 0.1433 - accuracy: 0.9500 - val_loss: 0.4223 - val_accuracy: 0.8995\n",
            "Epoch 60/100\n",
            "32/32 [==============================] - 1s 36ms/step - loss: 0.1404 - accuracy: 0.9436 - val_loss: 0.3947 - val_accuracy: 0.9041\n",
            "Epoch 61/100\n",
            "32/32 [==============================] - 1s 36ms/step - loss: 0.1450 - accuracy: 0.9367 - val_loss: 0.4085 - val_accuracy: 0.9041\n",
            "Epoch 62/100\n",
            "32/32 [==============================] - 1s 43ms/step - loss: 0.1503 - accuracy: 0.9413 - val_loss: 0.5308 - val_accuracy: 0.8584\n",
            "Epoch 63/100\n",
            "32/32 [==============================] - 1s 37ms/step - loss: 0.2527 - accuracy: 0.8978 - val_loss: 0.4168 - val_accuracy: 0.9132\n",
            "Epoch 64/100\n",
            "32/32 [==============================] - 1s 35ms/step - loss: 0.1460 - accuracy: 0.9370 - val_loss: 0.4279 - val_accuracy: 0.8904\n",
            "Epoch 65/100\n",
            "32/32 [==============================] - 1s 36ms/step - loss: 0.1536 - accuracy: 0.9420 - val_loss: 0.3984 - val_accuracy: 0.9224\n",
            "Epoch 66/100\n",
            "32/32 [==============================] - 1s 41ms/step - loss: 0.1468 - accuracy: 0.9417 - val_loss: 0.4630 - val_accuracy: 0.8904\n",
            "Epoch 67/100\n",
            "32/32 [==============================] - 1s 43ms/step - loss: 0.1480 - accuracy: 0.9359 - val_loss: 0.4186 - val_accuracy: 0.8950\n",
            "Epoch 68/100\n",
            "32/32 [==============================] - 1s 36ms/step - loss: 0.1312 - accuracy: 0.9491 - val_loss: 0.4600 - val_accuracy: 0.8858\n",
            "Epoch 69/100\n",
            "32/32 [==============================] - 1s 36ms/step - loss: 0.1396 - accuracy: 0.9377 - val_loss: 0.4900 - val_accuracy: 0.8904\n",
            "Epoch 70/100\n",
            "32/32 [==============================] - 1s 36ms/step - loss: 0.1298 - accuracy: 0.9553 - val_loss: 0.4577 - val_accuracy: 0.8904\n",
            "Epoch 71/100\n",
            "32/32 [==============================] - 1s 36ms/step - loss: 0.1340 - accuracy: 0.9401 - val_loss: 0.3922 - val_accuracy: 0.8950\n",
            "Epoch 72/100\n",
            "32/32 [==============================] - 1s 36ms/step - loss: 0.1633 - accuracy: 0.9390 - val_loss: 0.5173 - val_accuracy: 0.8950\n",
            "Epoch 73/100\n",
            "32/32 [==============================] - 1s 36ms/step - loss: 0.1645 - accuracy: 0.9398 - val_loss: 0.5294 - val_accuracy: 0.8721\n",
            "Epoch 74/100\n",
            "32/32 [==============================] - 1s 42ms/step - loss: 0.2057 - accuracy: 0.9303 - val_loss: 0.4700 - val_accuracy: 0.9041\n",
            "Epoch 75/100\n",
            "32/32 [==============================] - 1s 35ms/step - loss: 0.1337 - accuracy: 0.9488 - val_loss: 0.4579 - val_accuracy: 0.9041\n",
            "Epoch 76/100\n",
            "32/32 [==============================] - 1s 36ms/step - loss: 0.0941 - accuracy: 0.9636 - val_loss: 0.4374 - val_accuracy: 0.9178\n",
            "Epoch 77/100\n",
            "32/32 [==============================] - 1s 40ms/step - loss: 0.1238 - accuracy: 0.9491 - val_loss: 0.4542 - val_accuracy: 0.8904\n",
            "Epoch 78/100\n",
            "32/32 [==============================] - 1s 37ms/step - loss: 0.1536 - accuracy: 0.9363 - val_loss: 0.4864 - val_accuracy: 0.8950\n",
            "Epoch 79/100\n",
            "32/32 [==============================] - 1s 35ms/step - loss: 0.1260 - accuracy: 0.9525 - val_loss: 0.5682 - val_accuracy: 0.8904\n",
            "Epoch 80/100\n",
            "32/32 [==============================] - 1s 36ms/step - loss: 0.1145 - accuracy: 0.9499 - val_loss: 0.4714 - val_accuracy: 0.9087\n",
            "Epoch 81/100\n",
            "32/32 [==============================] - 1s 37ms/step - loss: 0.1240 - accuracy: 0.9499 - val_loss: 0.5176 - val_accuracy: 0.8721\n",
            "Epoch 82/100\n",
            "32/32 [==============================] - 1s 35ms/step - loss: 0.1354 - accuracy: 0.9524 - val_loss: 0.5509 - val_accuracy: 0.8995\n",
            "Epoch 83/100\n",
            "32/32 [==============================] - 1s 35ms/step - loss: 0.1260 - accuracy: 0.9521 - val_loss: 0.4661 - val_accuracy: 0.8950\n",
            "Epoch 84/100\n",
            "32/32 [==============================] - 1s 36ms/step - loss: 0.1405 - accuracy: 0.9392 - val_loss: 0.4573 - val_accuracy: 0.8995\n",
            "Epoch 85/100\n",
            "32/32 [==============================] - 1s 36ms/step - loss: 0.1278 - accuracy: 0.9434 - val_loss: 0.4893 - val_accuracy: 0.8995\n",
            "Epoch 86/100\n",
            "32/32 [==============================] - 1s 36ms/step - loss: 0.1064 - accuracy: 0.9559 - val_loss: 0.5127 - val_accuracy: 0.8950\n",
            "Epoch 87/100\n",
            "32/32 [==============================] - 1s 42ms/step - loss: 0.1243 - accuracy: 0.9492 - val_loss: 0.5866 - val_accuracy: 0.8904\n",
            "Epoch 88/100\n",
            "32/32 [==============================] - 1s 36ms/step - loss: 0.1534 - accuracy: 0.9367 - val_loss: 0.4556 - val_accuracy: 0.8813\n",
            "Epoch 89/100\n",
            "32/32 [==============================] - 1s 41ms/step - loss: 0.1391 - accuracy: 0.9439 - val_loss: 0.4552 - val_accuracy: 0.8676\n",
            "Epoch 90/100\n",
            "32/32 [==============================] - 1s 39ms/step - loss: 0.1281 - accuracy: 0.9469 - val_loss: 0.4298 - val_accuracy: 0.8950\n",
            "Epoch 91/100\n",
            "32/32 [==============================] - 1s 36ms/step - loss: 0.1285 - accuracy: 0.9452 - val_loss: 0.5463 - val_accuracy: 0.8950\n",
            "Epoch 92/100\n",
            "32/32 [==============================] - 1s 36ms/step - loss: 0.1201 - accuracy: 0.9560 - val_loss: 0.4397 - val_accuracy: 0.9224\n",
            "Epoch 93/100\n",
            "32/32 [==============================] - 1s 44ms/step - loss: 0.1139 - accuracy: 0.9570 - val_loss: 0.5113 - val_accuracy: 0.8858\n",
            "Epoch 94/100\n",
            "32/32 [==============================] - 1s 40ms/step - loss: 0.1002 - accuracy: 0.9702 - val_loss: 0.5242 - val_accuracy: 0.8950\n",
            "Epoch 95/100\n",
            "32/32 [==============================] - 1s 36ms/step - loss: 0.1165 - accuracy: 0.9561 - val_loss: 0.4478 - val_accuracy: 0.8813\n",
            "Epoch 96/100\n",
            "32/32 [==============================] - 1s 36ms/step - loss: 0.1442 - accuracy: 0.9405 - val_loss: 0.4368 - val_accuracy: 0.9087\n",
            "Epoch 97/100\n",
            "32/32 [==============================] - 1s 43ms/step - loss: 0.1075 - accuracy: 0.9565 - val_loss: 0.5618 - val_accuracy: 0.8950\n",
            "Epoch 98/100\n",
            "32/32 [==============================] - 1s 37ms/step - loss: 0.1173 - accuracy: 0.9421 - val_loss: 0.5567 - val_accuracy: 0.8950\n",
            "Epoch 99/100\n",
            "32/32 [==============================] - 1s 36ms/step - loss: 0.0944 - accuracy: 0.9685 - val_loss: 0.5332 - val_accuracy: 0.8995\n",
            "Epoch 100/100\n",
            "32/32 [==============================] - 1s 36ms/step - loss: 0.0993 - accuracy: 0.9672 - val_loss: 0.6326 - val_accuracy: 0.8904\n"
          ],
          "name": "stdout"
        }
      ]
    },
    {
      "cell_type": "code",
      "metadata": {
        "colab": {
          "base_uri": "https://localhost:8080/",
          "height": 295
        },
        "id": "76DiN1jbX_Dh",
        "outputId": "c287d4c7-a263-479c-a164-13b229b3c908"
      },
      "source": [
        "plt.plot(hist_2.history['loss'])\n",
        "plt.plot(hist_2.history['val_loss'])\n",
        "plt.title('Model loss')\n",
        "plt.ylabel('Loss')\n",
        "plt.xlabel('Epoch')\n",
        "plt.legend(['Train', 'Val'], loc='upper right');"
      ],
      "execution_count": null,
      "outputs": [
        {
          "output_type": "display_data",
          "data": {
            "image/png": "[encoded data removed]",
            "text/plain": [
              "<Figure size 432x288 with 1 Axes>"
            ]
          },
          "metadata": {
            "tags": [],
            "needs_background": "light"
          }
        }
      ]
    },
    {
      "cell_type": "code",
      "metadata": {
        "colab": {
          "base_uri": "https://localhost:8080/",
          "height": 295
        },
        "id": "no1MIYX2YOmC",
        "outputId": "8afe609d-9339-41e7-aed9-502f1ce5506e"
      },
      "source": [
        "plt.plot(hist_2.history['accuracy'])\n",
        "plt.plot(hist_2.history['val_accuracy'])\n",
        "plt.title('Model accuracy')\n",
        "plt.ylabel('Accuracy')\n",
        "plt.xlabel('Epoch')\n",
        "plt.legend(['Train', 'Val'], loc='lower right');"
      ],
      "execution_count": null,
      "outputs": [
        {
          "output_type": "display_data",
          "data": {
            "image/png": "[encoded data removed]",
            "text/plain": [
              "<Figure size 432x288 with 1 Axes>"
            ]
          },
          "metadata": {
            "tags": [],
            "needs_background": "light"
          }
        }
      ]
    },
    {
      "cell_type": "markdown",
      "metadata": {
        "id": "gitC-Rkc9jAH"
      },
      "source": [
        "### 3rd model adding regularization and dropout to avoid overfitting in the last model"
      ]
    },
    {
      "cell_type": "code",
      "metadata": {
        "id": "BukZzmChYR_y"
      },
      "source": [
        "model_3 = Sequential([\n",
        "    Dense(1000, activation='relu', kernel_regularizer=regularizers.l2(0.01), input_shape=(10,)),\n",
        "    Dropout(0.3),\n",
        "    Dense(1000, activation='relu', kernel_regularizer=regularizers.l2(0.01)),\n",
        "    Dropout(0.3),\n",
        "    Dense(1000, activation='relu', kernel_regularizer=regularizers.l2(0.01)),\n",
        "    Dropout(0.3),\n",
        "    Dense(1000, activation='relu', kernel_regularizer=regularizers.l2(0.01)),\n",
        "    Dropout(0.3),\n",
        "    Dense(1, activation='sigmoid', kernel_regularizer=regularizers.l2(0.01)),\n",
        "])"
      ],
      "execution_count": null,
      "outputs": []
    },
    {
      "cell_type": "code",
      "metadata": {
        "colab": {
          "base_uri": "https://localhost:8080/"
        },
        "id": "8g6ZP2iRYfCm",
        "outputId": "492a9cff-0078-4079-8c82-7a335d97503b"
      },
      "source": [
        "model_3.summary()"
      ],
      "execution_count": null,
      "outputs": [
        {
          "output_type": "stream",
          "text": [
            "Model: \"sequential_2\"\n",
            "_________________________________________________________________\n",
            "Layer (type)                 Output Shape              Param #   \n",
            "=================================================================\n",
            "dense_8 (Dense)              (None, 1000)              11000     \n",
            "_________________________________________________________________\n",
            "dropout (Dropout)            (None, 1000)              0         \n",
            "_________________________________________________________________\n",
            "dense_9 (Dense)              (None, 1000)              1001000   \n",
            "_________________________________________________________________\n",
            "dropout_1 (Dropout)          (None, 1000)              0         \n",
            "_________________________________________________________________\n",
            "dense_10 (Dense)             (None, 1000)              1001000   \n",
            "_________________________________________________________________\n",
            "dropout_2 (Dropout)          (None, 1000)              0         \n",
            "_________________________________________________________________\n",
            "dense_11 (Dense)             (None, 1000)              1001000   \n",
            "_________________________________________________________________\n",
            "dropout_3 (Dropout)          (None, 1000)              0         \n",
            "_________________________________________________________________\n",
            "dense_12 (Dense)             (None, 1)                 1001      \n",
            "=================================================================\n",
            "Total params: 3,015,001\n",
            "Trainable params: 3,015,001\n",
            "Non-trainable params: 0\n",
            "_________________________________________________________________\n"
          ],
          "name": "stdout"
        }
      ]
    },
    {
      "cell_type": "code",
      "metadata": {
        "colab": {
          "base_uri": "https://localhost:8080/"
        },
        "id": "JNQkranAYWTp",
        "outputId": "ffc26eb9-a242-41fe-d80b-c587b2e7ebc3"
      },
      "source": [
        "model_3.compile(optimizer='adam',\n",
        "              loss='binary_crossentropy',\n",
        "              metrics=['accuracy'])\n",
        "hist_3 = model_3.fit(X_train, Y_train,\n",
        "          batch_size=32, epochs=100,\n",
        "          validation_data=(X_val, Y_val))"
      ],
      "execution_count": null,
      "outputs": [
        {
          "output_type": "stream",
          "text": [
            "Epoch 1/100\n",
            "32/32 [==============================] - 3s 64ms/step - loss: 21.0957 - accuracy: 0.5802 - val_loss: 3.8861 - val_accuracy: 0.7671\n",
            "Epoch 2/100\n",
            "32/32 [==============================] - 2s 60ms/step - loss: 2.4910 - accuracy: 0.7820 - val_loss: 0.6704 - val_accuracy: 0.8311\n",
            "Epoch 3/100\n",
            "32/32 [==============================] - 1s 46ms/step - loss: 0.5843 - accuracy: 0.8634 - val_loss: 0.5333 - val_accuracy: 0.8447\n",
            "Epoch 4/100\n",
            "32/32 [==============================] - 1s 45ms/step - loss: 0.5514 - accuracy: 0.8390 - val_loss: 0.4909 - val_accuracy: 0.8676\n",
            "Epoch 5/100\n",
            "32/32 [==============================] - 1s 46ms/step - loss: 0.4784 - accuracy: 0.8830 - val_loss: 0.5240 - val_accuracy: 0.8721\n",
            "Epoch 6/100\n",
            "32/32 [==============================] - 2s 52ms/step - loss: 0.4991 - accuracy: 0.8680 - val_loss: 0.4724 - val_accuracy: 0.8721\n",
            "Epoch 7/100\n",
            "32/32 [==============================] - 1s 45ms/step - loss: 0.4962 - accuracy: 0.8662 - val_loss: 0.4687 - val_accuracy: 0.8813\n",
            "Epoch 8/100\n",
            "32/32 [==============================] - 1s 45ms/step - loss: 0.4582 - accuracy: 0.8781 - val_loss: 0.4741 - val_accuracy: 0.8539\n",
            "Epoch 9/100\n",
            "32/32 [==============================] - 1s 46ms/step - loss: 0.4664 - accuracy: 0.8746 - val_loss: 0.4629 - val_accuracy: 0.8767\n",
            "Epoch 10/100\n",
            "32/32 [==============================] - 2s 52ms/step - loss: 0.4616 - accuracy: 0.8741 - val_loss: 0.4620 - val_accuracy: 0.8767\n",
            "Epoch 11/100\n",
            "32/32 [==============================] - 1s 46ms/step - loss: 0.4555 - accuracy: 0.8868 - val_loss: 0.4672 - val_accuracy: 0.8584\n",
            "Epoch 12/100\n",
            "32/32 [==============================] - 1s 45ms/step - loss: 0.4411 - accuracy: 0.8884 - val_loss: 0.4608 - val_accuracy: 0.8767\n",
            "Epoch 13/100\n",
            "32/32 [==============================] - 1s 46ms/step - loss: 0.4803 - accuracy: 0.8700 - val_loss: 0.4582 - val_accuracy: 0.8721\n",
            "Epoch 14/100\n",
            "32/32 [==============================] - 1s 45ms/step - loss: 0.4519 - accuracy: 0.8886 - val_loss: 0.4555 - val_accuracy: 0.8767\n",
            "Epoch 15/100\n",
            "32/32 [==============================] - 1s 46ms/step - loss: 0.4592 - accuracy: 0.8744 - val_loss: 0.4584 - val_accuracy: 0.8721\n",
            "Epoch 16/100\n",
            "32/32 [==============================] - 1s 45ms/step - loss: 0.4630 - accuracy: 0.8707 - val_loss: 0.4564 - val_accuracy: 0.8767\n",
            "Epoch 17/100\n",
            "32/32 [==============================] - 2s 54ms/step - loss: 0.4654 - accuracy: 0.8676 - val_loss: 0.4620 - val_accuracy: 0.8630\n",
            "Epoch 18/100\n",
            "32/32 [==============================] - 1s 45ms/step - loss: 0.4323 - accuracy: 0.8885 - val_loss: 0.4538 - val_accuracy: 0.8721\n",
            "Epoch 19/100\n",
            "32/32 [==============================] - 1s 45ms/step - loss: 0.4263 - accuracy: 0.8934 - val_loss: 0.4931 - val_accuracy: 0.8630\n",
            "Epoch 20/100\n",
            "32/32 [==============================] - 1s 45ms/step - loss: 0.4452 - accuracy: 0.8742 - val_loss: 0.4501 - val_accuracy: 0.8767\n",
            "Epoch 21/100\n",
            "32/32 [==============================] - 1s 45ms/step - loss: 0.4250 - accuracy: 0.8878 - val_loss: 0.4469 - val_accuracy: 0.8813\n",
            "Epoch 22/100\n",
            "32/32 [==============================] - 2s 53ms/step - loss: 0.4629 - accuracy: 0.8640 - val_loss: 0.4574 - val_accuracy: 0.8767\n",
            "Epoch 23/100\n",
            "32/32 [==============================] - 2s 54ms/step - loss: 0.4780 - accuracy: 0.8606 - val_loss: 0.4643 - val_accuracy: 0.8676\n",
            "Epoch 24/100\n",
            "32/32 [==============================] - 2s 50ms/step - loss: 0.4243 - accuracy: 0.8863 - val_loss: 0.4537 - val_accuracy: 0.8676\n",
            "Epoch 25/100\n",
            "32/32 [==============================] - 2s 61ms/step - loss: 0.4398 - accuracy: 0.8833 - val_loss: 0.4611 - val_accuracy: 0.8676\n",
            "Epoch 26/100\n",
            "32/32 [==============================] - 2s 50ms/step - loss: 0.5096 - accuracy: 0.8467 - val_loss: 0.4581 - val_accuracy: 0.8676\n",
            "Epoch 27/100\n",
            "32/32 [==============================] - 2s 53ms/step - loss: 0.4490 - accuracy: 0.8778 - val_loss: 0.4569 - val_accuracy: 0.8630\n",
            "Epoch 28/100\n",
            "32/32 [==============================] - 1s 45ms/step - loss: 0.4446 - accuracy: 0.8875 - val_loss: 0.4652 - val_accuracy: 0.8721\n",
            "Epoch 29/100\n",
            "32/32 [==============================] - 1s 45ms/step - loss: 0.4437 - accuracy: 0.8863 - val_loss: 0.5546 - val_accuracy: 0.8447\n",
            "Epoch 30/100\n",
            "32/32 [==============================] - 1s 46ms/step - loss: 0.4599 - accuracy: 0.8798 - val_loss: 0.4594 - val_accuracy: 0.8676\n",
            "Epoch 31/100\n",
            "32/32 [==============================] - 1s 46ms/step - loss: 0.4382 - accuracy: 0.8803 - val_loss: 0.4735 - val_accuracy: 0.8630\n",
            "Epoch 32/100\n",
            "32/32 [==============================] - 1s 45ms/step - loss: 0.4471 - accuracy: 0.8757 - val_loss: 0.4550 - val_accuracy: 0.8630\n",
            "Epoch 33/100\n",
            "32/32 [==============================] - 1s 46ms/step - loss: 0.4226 - accuracy: 0.8997 - val_loss: 0.4739 - val_accuracy: 0.8676\n",
            "Epoch 34/100\n",
            "32/32 [==============================] - 1s 46ms/step - loss: 0.4521 - accuracy: 0.8610 - val_loss: 0.4428 - val_accuracy: 0.8813\n",
            "Epoch 35/100\n",
            "32/32 [==============================] - 1s 45ms/step - loss: 0.4289 - accuracy: 0.8914 - val_loss: 0.4596 - val_accuracy: 0.8630\n",
            "Epoch 36/100\n",
            "32/32 [==============================] - 1s 46ms/step - loss: 0.4336 - accuracy: 0.8840 - val_loss: 0.4896 - val_accuracy: 0.8676\n",
            "Epoch 37/100\n",
            "32/32 [==============================] - 1s 47ms/step - loss: 0.4421 - accuracy: 0.8764 - val_loss: 0.4503 - val_accuracy: 0.8721\n",
            "Epoch 38/100\n",
            "32/32 [==============================] - 1s 46ms/step - loss: 0.4176 - accuracy: 0.8936 - val_loss: 0.4515 - val_accuracy: 0.8721\n",
            "Epoch 39/100\n",
            "32/32 [==============================] - 1s 45ms/step - loss: 0.4422 - accuracy: 0.8777 - val_loss: 0.4676 - val_accuracy: 0.8676\n",
            "Epoch 40/100\n",
            "32/32 [==============================] - 1s 46ms/step - loss: 0.4544 - accuracy: 0.8782 - val_loss: 0.4854 - val_accuracy: 0.8676\n",
            "Epoch 41/100\n",
            "32/32 [==============================] - 1s 46ms/step - loss: 0.4556 - accuracy: 0.8821 - val_loss: 0.4562 - val_accuracy: 0.8630\n",
            "Epoch 42/100\n",
            "32/32 [==============================] - 1s 47ms/step - loss: 0.4333 - accuracy: 0.8954 - val_loss: 0.4535 - val_accuracy: 0.8630\n",
            "Epoch 43/100\n",
            "32/32 [==============================] - 2s 61ms/step - loss: 0.4272 - accuracy: 0.8835 - val_loss: 0.5260 - val_accuracy: 0.8676\n",
            "Epoch 44/100\n",
            "32/32 [==============================] - 2s 53ms/step - loss: 0.4885 - accuracy: 0.8607 - val_loss: 0.4487 - val_accuracy: 0.8721\n",
            "Epoch 45/100\n",
            "32/32 [==============================] - 2s 62ms/step - loss: 0.4268 - accuracy: 0.8871 - val_loss: 0.4619 - val_accuracy: 0.8721\n",
            "Epoch 46/100\n",
            "32/32 [==============================] - 2s 58ms/step - loss: 0.4152 - accuracy: 0.8944 - val_loss: 0.4475 - val_accuracy: 0.8630\n",
            "Epoch 47/100\n",
            "32/32 [==============================] - 1s 46ms/step - loss: 0.4459 - accuracy: 0.8735 - val_loss: 0.4794 - val_accuracy: 0.8630\n",
            "Epoch 48/100\n",
            "32/32 [==============================] - 1s 46ms/step - loss: 0.4642 - accuracy: 0.8625 - val_loss: 0.4925 - val_accuracy: 0.8767\n",
            "Epoch 49/100\n",
            "32/32 [==============================] - 1s 45ms/step - loss: 0.4834 - accuracy: 0.8694 - val_loss: 0.4492 - val_accuracy: 0.8813\n",
            "Epoch 50/100\n",
            "32/32 [==============================] - 1s 46ms/step - loss: 0.4502 - accuracy: 0.8733 - val_loss: 0.4838 - val_accuracy: 0.8630\n",
            "Epoch 51/100\n",
            "32/32 [==============================] - 1s 46ms/step - loss: 0.4352 - accuracy: 0.8862 - val_loss: 0.5250 - val_accuracy: 0.8630\n",
            "Epoch 52/100\n",
            "32/32 [==============================] - 1s 46ms/step - loss: 0.4185 - accuracy: 0.8948 - val_loss: 0.4605 - val_accuracy: 0.8676\n",
            "Epoch 53/100\n",
            "32/32 [==============================] - 2s 52ms/step - loss: 0.4177 - accuracy: 0.8997 - val_loss: 0.4540 - val_accuracy: 0.8676\n",
            "Epoch 54/100\n",
            "32/32 [==============================] - 2s 52ms/step - loss: 0.4107 - accuracy: 0.8942 - val_loss: 0.4814 - val_accuracy: 0.8676\n",
            "Epoch 55/100\n",
            "32/32 [==============================] - 2s 51ms/step - loss: 0.4628 - accuracy: 0.8674 - val_loss: 0.4680 - val_accuracy: 0.8630\n",
            "Epoch 56/100\n",
            "32/32 [==============================] - 1s 46ms/step - loss: 0.4355 - accuracy: 0.8892 - val_loss: 0.4432 - val_accuracy: 0.8721\n",
            "Epoch 57/100\n",
            "32/32 [==============================] - 1s 46ms/step - loss: 0.4901 - accuracy: 0.8594 - val_loss: 0.5158 - val_accuracy: 0.8676\n",
            "Epoch 58/100\n",
            "32/32 [==============================] - 1s 46ms/step - loss: 0.4669 - accuracy: 0.8530 - val_loss: 0.4596 - val_accuracy: 0.8584\n",
            "Epoch 59/100\n",
            "32/32 [==============================] - 1s 46ms/step - loss: 0.4284 - accuracy: 0.8818 - val_loss: 0.6504 - val_accuracy: 0.8265\n",
            "Epoch 60/100\n",
            "32/32 [==============================] - 2s 47ms/step - loss: 0.4753 - accuracy: 0.8498 - val_loss: 0.4666 - val_accuracy: 0.8767\n",
            "Epoch 61/100\n",
            "32/32 [==============================] - 2s 48ms/step - loss: 0.4153 - accuracy: 0.8880 - val_loss: 0.4557 - val_accuracy: 0.8584\n",
            "Epoch 62/100\n",
            "32/32 [==============================] - 2s 47ms/step - loss: 0.4333 - accuracy: 0.8882 - val_loss: 0.4622 - val_accuracy: 0.8584\n",
            "Epoch 63/100\n",
            "32/32 [==============================] - 2s 47ms/step - loss: 0.4176 - accuracy: 0.8960 - val_loss: 0.4545 - val_accuracy: 0.8767\n",
            "Epoch 64/100\n",
            "32/32 [==============================] - 1s 46ms/step - loss: 0.4360 - accuracy: 0.8893 - val_loss: 0.4646 - val_accuracy: 0.8630\n",
            "Epoch 65/100\n",
            "32/32 [==============================] - 2s 47ms/step - loss: 0.4212 - accuracy: 0.8853 - val_loss: 0.4457 - val_accuracy: 0.8721\n",
            "Epoch 66/100\n",
            "32/32 [==============================] - 2s 57ms/step - loss: 0.4389 - accuracy: 0.8715 - val_loss: 0.4635 - val_accuracy: 0.8630\n",
            "Epoch 67/100\n",
            "32/32 [==============================] - 2s 62ms/step - loss: 0.4219 - accuracy: 0.8937 - val_loss: 0.5250 - val_accuracy: 0.8584\n",
            "Epoch 68/100\n",
            "32/32 [==============================] - 2s 52ms/step - loss: 0.4514 - accuracy: 0.8761 - val_loss: 0.4488 - val_accuracy: 0.8767\n",
            "Epoch 69/100\n",
            "32/32 [==============================] - 2s 47ms/step - loss: 0.4127 - accuracy: 0.8967 - val_loss: 0.4592 - val_accuracy: 0.8721\n",
            "Epoch 70/100\n",
            "32/32 [==============================] - 1s 46ms/step - loss: 0.4373 - accuracy: 0.8910 - val_loss: 0.4606 - val_accuracy: 0.8721\n",
            "Epoch 71/100\n",
            "32/32 [==============================] - 1s 46ms/step - loss: 0.4486 - accuracy: 0.8609 - val_loss: 0.4491 - val_accuracy: 0.8630\n",
            "Epoch 72/100\n",
            "32/32 [==============================] - 1s 46ms/step - loss: 0.4324 - accuracy: 0.8971 - val_loss: 0.4547 - val_accuracy: 0.8721\n",
            "Epoch 73/100\n",
            "32/32 [==============================] - 2s 48ms/step - loss: 0.4333 - accuracy: 0.8870 - val_loss: 0.4456 - val_accuracy: 0.8767\n",
            "Epoch 74/100\n",
            "32/32 [==============================] - 2s 47ms/step - loss: 0.4299 - accuracy: 0.8859 - val_loss: 0.4527 - val_accuracy: 0.8676\n",
            "Epoch 75/100\n",
            "32/32 [==============================] - 1s 47ms/step - loss: 0.4274 - accuracy: 0.8916 - val_loss: 0.4704 - val_accuracy: 0.8584\n",
            "Epoch 76/100\n",
            "32/32 [==============================] - 1s 47ms/step - loss: 0.4405 - accuracy: 0.8747 - val_loss: 0.5119 - val_accuracy: 0.8630\n",
            "Epoch 77/100\n",
            "32/32 [==============================] - 1s 47ms/step - loss: 0.4238 - accuracy: 0.8836 - val_loss: 0.4728 - val_accuracy: 0.8767\n",
            "Epoch 78/100\n",
            "32/32 [==============================] - 2s 48ms/step - loss: 0.4445 - accuracy: 0.8805 - val_loss: 0.4468 - val_accuracy: 0.8630\n",
            "Epoch 79/100\n",
            "32/32 [==============================] - 1s 47ms/step - loss: 0.4464 - accuracy: 0.8653 - val_loss: 0.4456 - val_accuracy: 0.8721\n",
            "Epoch 80/100\n",
            "32/32 [==============================] - 2s 47ms/step - loss: 0.4502 - accuracy: 0.8854 - val_loss: 0.4470 - val_accuracy: 0.8721\n",
            "Epoch 81/100\n",
            "32/32 [==============================] - 1s 46ms/step - loss: 0.4103 - accuracy: 0.8897 - val_loss: 0.4520 - val_accuracy: 0.8630\n",
            "Epoch 82/100\n",
            "32/32 [==============================] - 1s 46ms/step - loss: 0.4213 - accuracy: 0.9046 - val_loss: 0.4437 - val_accuracy: 0.8721\n",
            "Epoch 83/100\n",
            "32/32 [==============================] - 1s 46ms/step - loss: 0.4332 - accuracy: 0.8883 - val_loss: 0.4548 - val_accuracy: 0.8676\n",
            "Epoch 84/100\n",
            "32/32 [==============================] - 2s 48ms/step - loss: 0.4130 - accuracy: 0.8978 - val_loss: 0.4607 - val_accuracy: 0.8584\n",
            "Epoch 85/100\n",
            "32/32 [==============================] - 1s 45ms/step - loss: 0.4510 - accuracy: 0.8744 - val_loss: 0.4514 - val_accuracy: 0.8676\n",
            "Epoch 86/100\n",
            "32/32 [==============================] - 1s 46ms/step - loss: 0.4279 - accuracy: 0.8916 - val_loss: 0.4454 - val_accuracy: 0.8721\n",
            "Epoch 87/100\n",
            "32/32 [==============================] - 2s 51ms/step - loss: 0.4427 - accuracy: 0.8717 - val_loss: 0.4880 - val_accuracy: 0.8630\n",
            "Epoch 88/100\n",
            "32/32 [==============================] - 2s 48ms/step - loss: 0.4309 - accuracy: 0.8952 - val_loss: 0.4704 - val_accuracy: 0.8630\n",
            "Epoch 89/100\n",
            "32/32 [==============================] - 1s 46ms/step - loss: 0.4196 - accuracy: 0.9077 - val_loss: 0.4712 - val_accuracy: 0.8630\n",
            "Epoch 90/100\n",
            "32/32 [==============================] - 1s 46ms/step - loss: 0.4425 - accuracy: 0.8728 - val_loss: 0.4637 - val_accuracy: 0.8721\n",
            "Epoch 91/100\n",
            "32/32 [==============================] - 1s 46ms/step - loss: 0.4378 - accuracy: 0.8903 - val_loss: 0.4600 - val_accuracy: 0.8676\n",
            "Epoch 92/100\n",
            "32/32 [==============================] - 1s 46ms/step - loss: 0.4367 - accuracy: 0.8855 - val_loss: 0.4691 - val_accuracy: 0.8584\n",
            "Epoch 93/100\n",
            "32/32 [==============================] - 2s 48ms/step - loss: 0.4503 - accuracy: 0.8832 - val_loss: 0.4522 - val_accuracy: 0.8584\n",
            "Epoch 94/100\n",
            "32/32 [==============================] - 2s 48ms/step - loss: 0.4399 - accuracy: 0.8846 - val_loss: 0.4467 - val_accuracy: 0.8630\n",
            "Epoch 95/100\n",
            "32/32 [==============================] - 2s 49ms/step - loss: 0.4145 - accuracy: 0.8975 - val_loss: 0.4665 - val_accuracy: 0.8539\n",
            "Epoch 96/100\n",
            "32/32 [==============================] - 1s 46ms/step - loss: 0.4229 - accuracy: 0.8847 - val_loss: 0.4458 - val_accuracy: 0.8721\n",
            "Epoch 97/100\n",
            "32/32 [==============================] - 2s 48ms/step - loss: 0.4435 - accuracy: 0.8805 - val_loss: 0.5741 - val_accuracy: 0.8493\n",
            "Epoch 98/100\n",
            "32/32 [==============================] - 2s 49ms/step - loss: 0.4444 - accuracy: 0.8639 - val_loss: 0.4481 - val_accuracy: 0.8676\n",
            "Epoch 99/100\n",
            "32/32 [==============================] - 2s 48ms/step - loss: 0.4303 - accuracy: 0.8942 - val_loss: 0.4505 - val_accuracy: 0.8630\n",
            "Epoch 100/100\n",
            "32/32 [==============================] - 2s 56ms/step - loss: 0.4554 - accuracy: 0.8680 - val_loss: 0.4932 - val_accuracy: 0.8630\n"
          ],
          "name": "stdout"
        }
      ]
    },
    {
      "cell_type": "code",
      "metadata": {
        "colab": {
          "base_uri": "https://localhost:8080/",
          "height": 295
        },
        "id": "vcp1QpB6YYt_",
        "outputId": "5f5981fd-cc87-410d-efa7-638c2f616b27"
      },
      "source": [
        "plt.plot(hist_3.history['loss'])\n",
        "plt.plot(hist_3.history['val_loss'])\n",
        "plt.title('Model loss')\n",
        "plt.ylabel('Loss')\n",
        "plt.xlabel('Epoch')\n",
        "plt.legend(['Train', 'Val'], loc='upper right')\n",
        "plt.ylim(top=1.2, bottom=0);"
      ],
      "execution_count": null,
      "outputs": [
        {
          "output_type": "display_data",
          "data": {
            "image/png": "[encoded data removed]",
            "text/plain": [
              "<Figure size 432x288 with 1 Axes>"
            ]
          },
          "metadata": {
            "tags": [],
            "needs_background": "light"
          }
        }
      ]
    },
    {
      "cell_type": "code",
      "metadata": {
        "colab": {
          "base_uri": "https://localhost:8080/",
          "height": 295
        },
        "id": "2V2t7ZloYlWG",
        "outputId": "a3fafaff-e3ea-4571-cbda-13de62de7e45"
      },
      "source": [
        "plt.plot(hist_3.history['accuracy'])\n",
        "plt.plot(hist_3.history['val_accuracy'])\n",
        "plt.title('Model accuracy')\n",
        "plt.ylabel('Accuracy')\n",
        "plt.xlabel('Epoch')\n",
        "plt.legend(['Train', 'Val'], loc='lower right');"
      ],
      "execution_count": null,
      "outputs": [
        {
          "output_type": "display_data",
          "data": {
            "image/png": "[encoded data removed]",
            "text/plain": [
              "<Figure size 432x288 with 1 Axes>"
            ]
          },
          "metadata": {
            "tags": [],
            "needs_background": "light"
          }
        }
      ]
    },
    {
      "cell_type": "markdown",
      "metadata": {
        "id": "2NJd4YB99pxn"
      },
      "source": [
        "### And that's all for this task.."
      ]
    },
    {
      "cell_type": "code",
      "metadata": {
        "id": "X21kdEzLYqZ5"
      },
      "source": [
        ""
      ],
      "execution_count": null,
      "outputs": []
    }
  ]
}